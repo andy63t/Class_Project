{
 "cells": [
  {
   "cell_type": "markdown",
   "metadata": {},
   "source": [
    "<h1 align=\"center\"> Artificial Neural Network </h1>\n",
    "<h1 align=\"center\"> Date:11/06/2019 </h1>"
   ]
  },
  {
   "cell_type": "markdown",
   "metadata": {},
   "source": [
    "# 1. Data"
   ]
  },
  {
   "cell_type": "markdown",
   "metadata": {},
   "source": [
    "- We use the full Toyota Corolla dataset to show how to use artificial neural network models for prediction. \n",
    "- Compared to the simplified version, the full dataset contains many columns."
   ]
  },
  {
   "cell_type": "code",
   "execution_count": 1,
   "metadata": {},
   "outputs": [],
   "source": [
    "# import modules\n",
    "import pandas as pd\n",
    "import numpy as np\n",
    "import matplotlib.pyplot as plt\n",
    "from sklearn.neural_network import MLPRegressor\n",
    "from sklearn.model_selection import learning_curve\n",
    "from sklearn.model_selection import ShuffleSplit"
   ]
  },
  {
   "cell_type": "markdown",
   "metadata": {},
   "source": [
    "## 1.1 Import data"
   ]
  },
  {
   "cell_type": "code",
   "execution_count": 2,
   "metadata": {},
   "outputs": [
    {
     "data": {
      "text/html": [
       "<div>\n",
       "<style scoped>\n",
       "    .dataframe tbody tr th:only-of-type {\n",
       "        vertical-align: middle;\n",
       "    }\n",
       "\n",
       "    .dataframe tbody tr th {\n",
       "        vertical-align: top;\n",
       "    }\n",
       "\n",
       "    .dataframe thead th {\n",
       "        text-align: right;\n",
       "    }\n",
       "</style>\n",
       "<table border=\"1\" class=\"dataframe\">\n",
       "  <thead>\n",
       "    <tr style=\"text-align: right;\">\n",
       "      <th></th>\n",
       "      <th>0</th>\n",
       "      <th>1</th>\n",
       "      <th>2</th>\n",
       "      <th>3</th>\n",
       "      <th>4</th>\n",
       "    </tr>\n",
       "  </thead>\n",
       "  <tbody>\n",
       "    <tr>\n",
       "      <th>Id</th>\n",
       "      <td>1</td>\n",
       "      <td>2</td>\n",
       "      <td>3</td>\n",
       "      <td>4</td>\n",
       "      <td>5</td>\n",
       "    </tr>\n",
       "    <tr>\n",
       "      <th>Model</th>\n",
       "      <td>TOYOTA Corolla 2.0 D4D HATCHB TERRA 2/3-Doors</td>\n",
       "      <td>TOYOTA Corolla 2.0 D4D HATCHB TERRA 2/3-Doors</td>\n",
       "      <td>TOYOTA Corolla 2.0 D4D HATCHB TERRA 2/3-Doors</td>\n",
       "      <td>TOYOTA Corolla 2.0 D4D HATCHB TERRA 2/3-Doors</td>\n",
       "      <td>TOYOTA Corolla 2.0 D4D HATCHB SOL 2/3-Doors</td>\n",
       "    </tr>\n",
       "    <tr>\n",
       "      <th>Price</th>\n",
       "      <td>13500</td>\n",
       "      <td>13750</td>\n",
       "      <td>13950</td>\n",
       "      <td>14950</td>\n",
       "      <td>13750</td>\n",
       "    </tr>\n",
       "    <tr>\n",
       "      <th>Age_08_04</th>\n",
       "      <td>23</td>\n",
       "      <td>23</td>\n",
       "      <td>24</td>\n",
       "      <td>26</td>\n",
       "      <td>30</td>\n",
       "    </tr>\n",
       "    <tr>\n",
       "      <th>Mfg_Month</th>\n",
       "      <td>10</td>\n",
       "      <td>10</td>\n",
       "      <td>9</td>\n",
       "      <td>7</td>\n",
       "      <td>3</td>\n",
       "    </tr>\n",
       "    <tr>\n",
       "      <th>Mfg_Year</th>\n",
       "      <td>2002</td>\n",
       "      <td>2002</td>\n",
       "      <td>2002</td>\n",
       "      <td>2002</td>\n",
       "      <td>2002</td>\n",
       "    </tr>\n",
       "    <tr>\n",
       "      <th>KM</th>\n",
       "      <td>46986</td>\n",
       "      <td>72937</td>\n",
       "      <td>41711</td>\n",
       "      <td>48000</td>\n",
       "      <td>38500</td>\n",
       "    </tr>\n",
       "    <tr>\n",
       "      <th>Fuel_Type</th>\n",
       "      <td>Diesel</td>\n",
       "      <td>Diesel</td>\n",
       "      <td>Diesel</td>\n",
       "      <td>Diesel</td>\n",
       "      <td>Diesel</td>\n",
       "    </tr>\n",
       "    <tr>\n",
       "      <th>HP</th>\n",
       "      <td>90</td>\n",
       "      <td>90</td>\n",
       "      <td>90</td>\n",
       "      <td>90</td>\n",
       "      <td>90</td>\n",
       "    </tr>\n",
       "    <tr>\n",
       "      <th>Met_Color</th>\n",
       "      <td>1</td>\n",
       "      <td>1</td>\n",
       "      <td>1</td>\n",
       "      <td>0</td>\n",
       "      <td>0</td>\n",
       "    </tr>\n",
       "    <tr>\n",
       "      <th>Color</th>\n",
       "      <td>Blue</td>\n",
       "      <td>Silver</td>\n",
       "      <td>Blue</td>\n",
       "      <td>Black</td>\n",
       "      <td>Black</td>\n",
       "    </tr>\n",
       "    <tr>\n",
       "      <th>Automatic</th>\n",
       "      <td>0</td>\n",
       "      <td>0</td>\n",
       "      <td>0</td>\n",
       "      <td>0</td>\n",
       "      <td>0</td>\n",
       "    </tr>\n",
       "    <tr>\n",
       "      <th>CC</th>\n",
       "      <td>2000</td>\n",
       "      <td>2000</td>\n",
       "      <td>2000</td>\n",
       "      <td>2000</td>\n",
       "      <td>2000</td>\n",
       "    </tr>\n",
       "    <tr>\n",
       "      <th>Doors</th>\n",
       "      <td>3</td>\n",
       "      <td>3</td>\n",
       "      <td>3</td>\n",
       "      <td>3</td>\n",
       "      <td>3</td>\n",
       "    </tr>\n",
       "    <tr>\n",
       "      <th>Cylinders</th>\n",
       "      <td>4</td>\n",
       "      <td>4</td>\n",
       "      <td>4</td>\n",
       "      <td>4</td>\n",
       "      <td>4</td>\n",
       "    </tr>\n",
       "    <tr>\n",
       "      <th>Gears</th>\n",
       "      <td>5</td>\n",
       "      <td>5</td>\n",
       "      <td>5</td>\n",
       "      <td>5</td>\n",
       "      <td>5</td>\n",
       "    </tr>\n",
       "    <tr>\n",
       "      <th>Quarterly_Tax</th>\n",
       "      <td>210</td>\n",
       "      <td>210</td>\n",
       "      <td>210</td>\n",
       "      <td>210</td>\n",
       "      <td>210</td>\n",
       "    </tr>\n",
       "    <tr>\n",
       "      <th>Weight</th>\n",
       "      <td>1165</td>\n",
       "      <td>1165</td>\n",
       "      <td>1165</td>\n",
       "      <td>1165</td>\n",
       "      <td>1170</td>\n",
       "    </tr>\n",
       "    <tr>\n",
       "      <th>Mfr_Guarantee</th>\n",
       "      <td>0</td>\n",
       "      <td>0</td>\n",
       "      <td>1</td>\n",
       "      <td>1</td>\n",
       "      <td>1</td>\n",
       "    </tr>\n",
       "    <tr>\n",
       "      <th>BOVAG_Guarantee</th>\n",
       "      <td>1</td>\n",
       "      <td>1</td>\n",
       "      <td>1</td>\n",
       "      <td>1</td>\n",
       "      <td>1</td>\n",
       "    </tr>\n",
       "    <tr>\n",
       "      <th>Guarantee_Period</th>\n",
       "      <td>3</td>\n",
       "      <td>3</td>\n",
       "      <td>3</td>\n",
       "      <td>3</td>\n",
       "      <td>3</td>\n",
       "    </tr>\n",
       "    <tr>\n",
       "      <th>ABS</th>\n",
       "      <td>1</td>\n",
       "      <td>1</td>\n",
       "      <td>1</td>\n",
       "      <td>1</td>\n",
       "      <td>1</td>\n",
       "    </tr>\n",
       "    <tr>\n",
       "      <th>Airbag_1</th>\n",
       "      <td>1</td>\n",
       "      <td>1</td>\n",
       "      <td>1</td>\n",
       "      <td>1</td>\n",
       "      <td>1</td>\n",
       "    </tr>\n",
       "    <tr>\n",
       "      <th>Airbag_2</th>\n",
       "      <td>1</td>\n",
       "      <td>1</td>\n",
       "      <td>1</td>\n",
       "      <td>1</td>\n",
       "      <td>1</td>\n",
       "    </tr>\n",
       "    <tr>\n",
       "      <th>Airco</th>\n",
       "      <td>0</td>\n",
       "      <td>1</td>\n",
       "      <td>0</td>\n",
       "      <td>0</td>\n",
       "      <td>1</td>\n",
       "    </tr>\n",
       "    <tr>\n",
       "      <th>Automatic_airco</th>\n",
       "      <td>0</td>\n",
       "      <td>0</td>\n",
       "      <td>0</td>\n",
       "      <td>0</td>\n",
       "      <td>0</td>\n",
       "    </tr>\n",
       "    <tr>\n",
       "      <th>Boardcomputer</th>\n",
       "      <td>1</td>\n",
       "      <td>1</td>\n",
       "      <td>1</td>\n",
       "      <td>1</td>\n",
       "      <td>1</td>\n",
       "    </tr>\n",
       "    <tr>\n",
       "      <th>CD_Player</th>\n",
       "      <td>0</td>\n",
       "      <td>1</td>\n",
       "      <td>0</td>\n",
       "      <td>0</td>\n",
       "      <td>0</td>\n",
       "    </tr>\n",
       "    <tr>\n",
       "      <th>Central_Lock</th>\n",
       "      <td>1</td>\n",
       "      <td>1</td>\n",
       "      <td>0</td>\n",
       "      <td>0</td>\n",
       "      <td>1</td>\n",
       "    </tr>\n",
       "    <tr>\n",
       "      <th>Powered_Windows</th>\n",
       "      <td>1</td>\n",
       "      <td>0</td>\n",
       "      <td>0</td>\n",
       "      <td>0</td>\n",
       "      <td>1</td>\n",
       "    </tr>\n",
       "    <tr>\n",
       "      <th>Power_Steering</th>\n",
       "      <td>1</td>\n",
       "      <td>1</td>\n",
       "      <td>1</td>\n",
       "      <td>1</td>\n",
       "      <td>1</td>\n",
       "    </tr>\n",
       "    <tr>\n",
       "      <th>Radio</th>\n",
       "      <td>0</td>\n",
       "      <td>0</td>\n",
       "      <td>0</td>\n",
       "      <td>0</td>\n",
       "      <td>0</td>\n",
       "    </tr>\n",
       "    <tr>\n",
       "      <th>Mistlamps</th>\n",
       "      <td>0</td>\n",
       "      <td>0</td>\n",
       "      <td>0</td>\n",
       "      <td>0</td>\n",
       "      <td>1</td>\n",
       "    </tr>\n",
       "    <tr>\n",
       "      <th>Sport_Model</th>\n",
       "      <td>0</td>\n",
       "      <td>0</td>\n",
       "      <td>0</td>\n",
       "      <td>0</td>\n",
       "      <td>0</td>\n",
       "    </tr>\n",
       "    <tr>\n",
       "      <th>Backseat_Divider</th>\n",
       "      <td>1</td>\n",
       "      <td>1</td>\n",
       "      <td>1</td>\n",
       "      <td>1</td>\n",
       "      <td>1</td>\n",
       "    </tr>\n",
       "    <tr>\n",
       "      <th>Metallic_Rim</th>\n",
       "      <td>0</td>\n",
       "      <td>0</td>\n",
       "      <td>0</td>\n",
       "      <td>0</td>\n",
       "      <td>0</td>\n",
       "    </tr>\n",
       "    <tr>\n",
       "      <th>Radio_cassette</th>\n",
       "      <td>0</td>\n",
       "      <td>0</td>\n",
       "      <td>0</td>\n",
       "      <td>0</td>\n",
       "      <td>0</td>\n",
       "    </tr>\n",
       "    <tr>\n",
       "      <th>Parking_Assistant</th>\n",
       "      <td>0</td>\n",
       "      <td>0</td>\n",
       "      <td>0</td>\n",
       "      <td>0</td>\n",
       "      <td>0</td>\n",
       "    </tr>\n",
       "    <tr>\n",
       "      <th>Tow_Bar</th>\n",
       "      <td>0</td>\n",
       "      <td>0</td>\n",
       "      <td>0</td>\n",
       "      <td>0</td>\n",
       "      <td>0</td>\n",
       "    </tr>\n",
       "  </tbody>\n",
       "</table>\n",
       "</div>"
      ],
      "text/plain": [
       "                                                               0  \\\n",
       "Id                                                             1   \n",
       "Model              TOYOTA Corolla 2.0 D4D HATCHB TERRA 2/3-Doors   \n",
       "Price                                                      13500   \n",
       "Age_08_04                                                     23   \n",
       "Mfg_Month                                                     10   \n",
       "Mfg_Year                                                    2002   \n",
       "KM                                                         46986   \n",
       "Fuel_Type                                                 Diesel   \n",
       "HP                                                            90   \n",
       "Met_Color                                                      1   \n",
       "Color                                                       Blue   \n",
       "Automatic                                                      0   \n",
       "CC                                                          2000   \n",
       "Doors                                                          3   \n",
       "Cylinders                                                      4   \n",
       "Gears                                                          5   \n",
       "Quarterly_Tax                                                210   \n",
       "Weight                                                      1165   \n",
       "Mfr_Guarantee                                                  0   \n",
       "BOVAG_Guarantee                                                1   \n",
       "Guarantee_Period                                               3   \n",
       "ABS                                                            1   \n",
       "Airbag_1                                                       1   \n",
       "Airbag_2                                                       1   \n",
       "Airco                                                          0   \n",
       "Automatic_airco                                                0   \n",
       "Boardcomputer                                                  1   \n",
       "CD_Player                                                      0   \n",
       "Central_Lock                                                   1   \n",
       "Powered_Windows                                                1   \n",
       "Power_Steering                                                 1   \n",
       "Radio                                                          0   \n",
       "Mistlamps                                                      0   \n",
       "Sport_Model                                                    0   \n",
       "Backseat_Divider                                               1   \n",
       "Metallic_Rim                                                   0   \n",
       "Radio_cassette                                                 0   \n",
       "Parking_Assistant                                              0   \n",
       "Tow_Bar                                                        0   \n",
       "\n",
       "                                                               1  \\\n",
       "Id                                                             2   \n",
       "Model              TOYOTA Corolla 2.0 D4D HATCHB TERRA 2/3-Doors   \n",
       "Price                                                      13750   \n",
       "Age_08_04                                                     23   \n",
       "Mfg_Month                                                     10   \n",
       "Mfg_Year                                                    2002   \n",
       "KM                                                         72937   \n",
       "Fuel_Type                                                 Diesel   \n",
       "HP                                                            90   \n",
       "Met_Color                                                      1   \n",
       "Color                                                     Silver   \n",
       "Automatic                                                      0   \n",
       "CC                                                          2000   \n",
       "Doors                                                          3   \n",
       "Cylinders                                                      4   \n",
       "Gears                                                          5   \n",
       "Quarterly_Tax                                                210   \n",
       "Weight                                                      1165   \n",
       "Mfr_Guarantee                                                  0   \n",
       "BOVAG_Guarantee                                                1   \n",
       "Guarantee_Period                                               3   \n",
       "ABS                                                            1   \n",
       "Airbag_1                                                       1   \n",
       "Airbag_2                                                       1   \n",
       "Airco                                                          1   \n",
       "Automatic_airco                                                0   \n",
       "Boardcomputer                                                  1   \n",
       "CD_Player                                                      1   \n",
       "Central_Lock                                                   1   \n",
       "Powered_Windows                                                0   \n",
       "Power_Steering                                                 1   \n",
       "Radio                                                          0   \n",
       "Mistlamps                                                      0   \n",
       "Sport_Model                                                    0   \n",
       "Backseat_Divider                                               1   \n",
       "Metallic_Rim                                                   0   \n",
       "Radio_cassette                                                 0   \n",
       "Parking_Assistant                                              0   \n",
       "Tow_Bar                                                        0   \n",
       "\n",
       "                                                                2  \\\n",
       "Id                                                              3   \n",
       "Model               TOYOTA Corolla 2.0 D4D HATCHB TERRA 2/3-Doors   \n",
       "Price                                                       13950   \n",
       "Age_08_04                                                      24   \n",
       "Mfg_Month                                                       9   \n",
       "Mfg_Year                                                     2002   \n",
       "KM                                                          41711   \n",
       "Fuel_Type                                                  Diesel   \n",
       "HP                                                             90   \n",
       "Met_Color                                                       1   \n",
       "Color                                                        Blue   \n",
       "Automatic                                                       0   \n",
       "CC                                                           2000   \n",
       "Doors                                                           3   \n",
       "Cylinders                                                       4   \n",
       "Gears                                                           5   \n",
       "Quarterly_Tax                                                 210   \n",
       "Weight                                                       1165   \n",
       "Mfr_Guarantee                                                   1   \n",
       "BOVAG_Guarantee                                                 1   \n",
       "Guarantee_Period                                                3   \n",
       "ABS                                                             1   \n",
       "Airbag_1                                                        1   \n",
       "Airbag_2                                                        1   \n",
       "Airco                                                           0   \n",
       "Automatic_airco                                                 0   \n",
       "Boardcomputer                                                   1   \n",
       "CD_Player                                                       0   \n",
       "Central_Lock                                                    0   \n",
       "Powered_Windows                                                 0   \n",
       "Power_Steering                                                  1   \n",
       "Radio                                                           0   \n",
       "Mistlamps                                                       0   \n",
       "Sport_Model                                                     0   \n",
       "Backseat_Divider                                                1   \n",
       "Metallic_Rim                                                    0   \n",
       "Radio_cassette                                                  0   \n",
       "Parking_Assistant                                               0   \n",
       "Tow_Bar                                                         0   \n",
       "\n",
       "                                                               3  \\\n",
       "Id                                                             4   \n",
       "Model              TOYOTA Corolla 2.0 D4D HATCHB TERRA 2/3-Doors   \n",
       "Price                                                      14950   \n",
       "Age_08_04                                                     26   \n",
       "Mfg_Month                                                      7   \n",
       "Mfg_Year                                                    2002   \n",
       "KM                                                         48000   \n",
       "Fuel_Type                                                 Diesel   \n",
       "HP                                                            90   \n",
       "Met_Color                                                      0   \n",
       "Color                                                      Black   \n",
       "Automatic                                                      0   \n",
       "CC                                                          2000   \n",
       "Doors                                                          3   \n",
       "Cylinders                                                      4   \n",
       "Gears                                                          5   \n",
       "Quarterly_Tax                                                210   \n",
       "Weight                                                      1165   \n",
       "Mfr_Guarantee                                                  1   \n",
       "BOVAG_Guarantee                                                1   \n",
       "Guarantee_Period                                               3   \n",
       "ABS                                                            1   \n",
       "Airbag_1                                                       1   \n",
       "Airbag_2                                                       1   \n",
       "Airco                                                          0   \n",
       "Automatic_airco                                                0   \n",
       "Boardcomputer                                                  1   \n",
       "CD_Player                                                      0   \n",
       "Central_Lock                                                   0   \n",
       "Powered_Windows                                                0   \n",
       "Power_Steering                                                 1   \n",
       "Radio                                                          0   \n",
       "Mistlamps                                                      0   \n",
       "Sport_Model                                                    0   \n",
       "Backseat_Divider                                               1   \n",
       "Metallic_Rim                                                   0   \n",
       "Radio_cassette                                                 0   \n",
       "Parking_Assistant                                              0   \n",
       "Tow_Bar                                                        0   \n",
       "\n",
       "                                                             4  \n",
       "Id                                                           5  \n",
       "Model              TOYOTA Corolla 2.0 D4D HATCHB SOL 2/3-Doors  \n",
       "Price                                                    13750  \n",
       "Age_08_04                                                   30  \n",
       "Mfg_Month                                                    3  \n",
       "Mfg_Year                                                  2002  \n",
       "KM                                                       38500  \n",
       "Fuel_Type                                               Diesel  \n",
       "HP                                                          90  \n",
       "Met_Color                                                    0  \n",
       "Color                                                    Black  \n",
       "Automatic                                                    0  \n",
       "CC                                                        2000  \n",
       "Doors                                                        3  \n",
       "Cylinders                                                    4  \n",
       "Gears                                                        5  \n",
       "Quarterly_Tax                                              210  \n",
       "Weight                                                    1170  \n",
       "Mfr_Guarantee                                                1  \n",
       "BOVAG_Guarantee                                              1  \n",
       "Guarantee_Period                                             3  \n",
       "ABS                                                          1  \n",
       "Airbag_1                                                     1  \n",
       "Airbag_2                                                     1  \n",
       "Airco                                                        1  \n",
       "Automatic_airco                                              0  \n",
       "Boardcomputer                                                1  \n",
       "CD_Player                                                    0  \n",
       "Central_Lock                                                 1  \n",
       "Powered_Windows                                              1  \n",
       "Power_Steering                                               1  \n",
       "Radio                                                        0  \n",
       "Mistlamps                                                    1  \n",
       "Sport_Model                                                  0  \n",
       "Backseat_Divider                                             1  \n",
       "Metallic_Rim                                                 0  \n",
       "Radio_cassette                                               0  \n",
       "Parking_Assistant                                            0  \n",
       "Tow_Bar                                                      0  "
      ]
     },
     "execution_count": 2,
     "metadata": {},
     "output_type": "execute_result"
    }
   ],
   "source": [
    "# dat=pd.read_excel(r\"C:/Users/yy63t/Desktop/PE6001/\n",
    "#                  11.01-Introduction to python/\n",
    "#                  ToyotaCorolla_FullData.xls\",sheet_name=\"data\")\n",
    "# put jupyter notebook and dataset in the same folder\n",
    "dat=pd.read_excel(\"ToyotaCorolla_FullData.xls\",sheet_name=\"data\")\n",
    "\n",
    "# for the covenience of table show, we transpose the tabel\n",
    "dat.head().transpose()"
   ]
  },
  {
   "cell_type": "code",
   "execution_count": 3,
   "metadata": {},
   "outputs": [
    {
     "name": "stdout",
     "output_type": "stream",
     "text": [
      "<class 'pandas.core.frame.DataFrame'>\n",
      "RangeIndex: 1436 entries, 0 to 1435\n",
      "Data columns (total 39 columns):\n",
      "Id                   1436 non-null int64\n",
      "Model                1436 non-null object\n",
      "Price                1436 non-null int64\n",
      "Age_08_04            1436 non-null int64\n",
      "Mfg_Month            1436 non-null int64\n",
      "Mfg_Year             1436 non-null int64\n",
      "KM                   1436 non-null int64\n",
      "Fuel_Type            1436 non-null object\n",
      "HP                   1436 non-null int64\n",
      "Met_Color            1436 non-null int64\n",
      "Color                1436 non-null object\n",
      "Automatic            1436 non-null int64\n",
      "CC                   1436 non-null int64\n",
      "Doors                1436 non-null int64\n",
      "Cylinders            1436 non-null int64\n",
      "Gears                1436 non-null int64\n",
      "Quarterly_Tax        1436 non-null int64\n",
      "Weight               1436 non-null int64\n",
      "Mfr_Guarantee        1436 non-null int64\n",
      "BOVAG_Guarantee      1436 non-null int64\n",
      "Guarantee_Period     1436 non-null int64\n",
      "ABS                  1436 non-null int64\n",
      "Airbag_1             1436 non-null int64\n",
      "Airbag_2             1436 non-null int64\n",
      "Airco                1436 non-null int64\n",
      "Automatic_airco      1436 non-null int64\n",
      "Boardcomputer        1436 non-null int64\n",
      "CD_Player            1436 non-null int64\n",
      "Central_Lock         1436 non-null int64\n",
      "Powered_Windows      1436 non-null int64\n",
      "Power_Steering       1436 non-null int64\n",
      "Radio                1436 non-null int64\n",
      "Mistlamps            1436 non-null int64\n",
      "Sport_Model          1436 non-null int64\n",
      "Backseat_Divider     1436 non-null int64\n",
      "Metallic_Rim         1436 non-null int64\n",
      "Radio_cassette       1436 non-null int64\n",
      "Parking_Assistant    1436 non-null int64\n",
      "Tow_Bar              1436 non-null int64\n",
      "dtypes: int64(36), object(3)\n",
      "memory usage: 437.6+ KB\n"
     ]
    }
   ],
   "source": [
    "dat.info()"
   ]
  },
  {
   "cell_type": "markdown",
   "metadata": {},
   "source": [
    "We can see that 'Fuel_Type' and 'Color' are categorical variables. We will deal with them in next section."
   ]
  },
  {
   "cell_type": "code",
   "execution_count": 4,
   "metadata": {},
   "outputs": [
    {
     "data": {
      "text/plain": [
       "Id                   0\n",
       "Model                0\n",
       "Price                0\n",
       "Age_08_04            0\n",
       "Mfg_Month            0\n",
       "Mfg_Year             0\n",
       "KM                   0\n",
       "Fuel_Type            0\n",
       "HP                   0\n",
       "Met_Color            0\n",
       "Color                0\n",
       "Automatic            0\n",
       "CC                   0\n",
       "Doors                0\n",
       "Cylinders            0\n",
       "Gears                0\n",
       "Quarterly_Tax        0\n",
       "Weight               0\n",
       "Mfr_Guarantee        0\n",
       "BOVAG_Guarantee      0\n",
       "Guarantee_Period     0\n",
       "ABS                  0\n",
       "Airbag_1             0\n",
       "Airbag_2             0\n",
       "Airco                0\n",
       "Automatic_airco      0\n",
       "Boardcomputer        0\n",
       "CD_Player            0\n",
       "Central_Lock         0\n",
       "Powered_Windows      0\n",
       "Power_Steering       0\n",
       "Radio                0\n",
       "Mistlamps            0\n",
       "Sport_Model          0\n",
       "Backseat_Divider     0\n",
       "Metallic_Rim         0\n",
       "Radio_cassette       0\n",
       "Parking_Assistant    0\n",
       "Tow_Bar              0\n",
       "dtype: int64"
      ]
     },
     "execution_count": 4,
     "metadata": {},
     "output_type": "execute_result"
    }
   ],
   "source": [
    "'''\n",
    "many algorithms cannot deal with null values, \n",
    "you need to check NaN before using algorithms.\n",
    "'''\n",
    "dat.isnull().sum()"
   ]
  },
  {
   "cell_type": "code",
   "execution_count": 5,
   "metadata": {},
   "outputs": [
    {
     "data": {
      "text/html": [
       "<div>\n",
       "<style scoped>\n",
       "    .dataframe tbody tr th:only-of-type {\n",
       "        vertical-align: middle;\n",
       "    }\n",
       "\n",
       "    .dataframe tbody tr th {\n",
       "        vertical-align: top;\n",
       "    }\n",
       "\n",
       "    .dataframe thead th {\n",
       "        text-align: right;\n",
       "    }\n",
       "</style>\n",
       "<table border=\"1\" class=\"dataframe\">\n",
       "  <thead>\n",
       "    <tr style=\"text-align: right;\">\n",
       "      <th></th>\n",
       "      <th>count</th>\n",
       "      <th>mean</th>\n",
       "      <th>std</th>\n",
       "      <th>min</th>\n",
       "      <th>25%</th>\n",
       "      <th>50%</th>\n",
       "      <th>75%</th>\n",
       "      <th>max</th>\n",
       "    </tr>\n",
       "  </thead>\n",
       "  <tbody>\n",
       "    <tr>\n",
       "      <th>Id</th>\n",
       "      <td>1436.0</td>\n",
       "      <td>721.555014</td>\n",
       "      <td>416.476890</td>\n",
       "      <td>1.0</td>\n",
       "      <td>361.75</td>\n",
       "      <td>721.5</td>\n",
       "      <td>1081.25</td>\n",
       "      <td>1442.0</td>\n",
       "    </tr>\n",
       "    <tr>\n",
       "      <th>Price</th>\n",
       "      <td>1436.0</td>\n",
       "      <td>10730.824513</td>\n",
       "      <td>3626.964585</td>\n",
       "      <td>4350.0</td>\n",
       "      <td>8450.00</td>\n",
       "      <td>9900.0</td>\n",
       "      <td>11950.00</td>\n",
       "      <td>32500.0</td>\n",
       "    </tr>\n",
       "    <tr>\n",
       "      <th>Age_08_04</th>\n",
       "      <td>1436.0</td>\n",
       "      <td>55.947075</td>\n",
       "      <td>18.599988</td>\n",
       "      <td>1.0</td>\n",
       "      <td>44.00</td>\n",
       "      <td>61.0</td>\n",
       "      <td>70.00</td>\n",
       "      <td>80.0</td>\n",
       "    </tr>\n",
       "    <tr>\n",
       "      <th>Mfg_Month</th>\n",
       "      <td>1436.0</td>\n",
       "      <td>5.548747</td>\n",
       "      <td>3.354085</td>\n",
       "      <td>1.0</td>\n",
       "      <td>3.00</td>\n",
       "      <td>5.0</td>\n",
       "      <td>8.00</td>\n",
       "      <td>12.0</td>\n",
       "    </tr>\n",
       "    <tr>\n",
       "      <th>Mfg_Year</th>\n",
       "      <td>1436.0</td>\n",
       "      <td>1999.625348</td>\n",
       "      <td>1.540722</td>\n",
       "      <td>1998.0</td>\n",
       "      <td>1998.00</td>\n",
       "      <td>1999.0</td>\n",
       "      <td>2001.00</td>\n",
       "      <td>2004.0</td>\n",
       "    </tr>\n",
       "    <tr>\n",
       "      <th>KM</th>\n",
       "      <td>1436.0</td>\n",
       "      <td>68533.259749</td>\n",
       "      <td>37506.448872</td>\n",
       "      <td>1.0</td>\n",
       "      <td>43000.00</td>\n",
       "      <td>63389.5</td>\n",
       "      <td>87020.75</td>\n",
       "      <td>243000.0</td>\n",
       "    </tr>\n",
       "    <tr>\n",
       "      <th>HP</th>\n",
       "      <td>1436.0</td>\n",
       "      <td>101.502089</td>\n",
       "      <td>14.981080</td>\n",
       "      <td>69.0</td>\n",
       "      <td>90.00</td>\n",
       "      <td>110.0</td>\n",
       "      <td>110.00</td>\n",
       "      <td>192.0</td>\n",
       "    </tr>\n",
       "    <tr>\n",
       "      <th>Met_Color</th>\n",
       "      <td>1436.0</td>\n",
       "      <td>0.674791</td>\n",
       "      <td>0.468616</td>\n",
       "      <td>0.0</td>\n",
       "      <td>0.00</td>\n",
       "      <td>1.0</td>\n",
       "      <td>1.00</td>\n",
       "      <td>1.0</td>\n",
       "    </tr>\n",
       "    <tr>\n",
       "      <th>Automatic</th>\n",
       "      <td>1436.0</td>\n",
       "      <td>0.055710</td>\n",
       "      <td>0.229441</td>\n",
       "      <td>0.0</td>\n",
       "      <td>0.00</td>\n",
       "      <td>0.0</td>\n",
       "      <td>0.00</td>\n",
       "      <td>1.0</td>\n",
       "    </tr>\n",
       "    <tr>\n",
       "      <th>CC</th>\n",
       "      <td>1436.0</td>\n",
       "      <td>1576.855850</td>\n",
       "      <td>424.386770</td>\n",
       "      <td>1300.0</td>\n",
       "      <td>1400.00</td>\n",
       "      <td>1600.0</td>\n",
       "      <td>1600.00</td>\n",
       "      <td>16000.0</td>\n",
       "    </tr>\n",
       "    <tr>\n",
       "      <th>Doors</th>\n",
       "      <td>1436.0</td>\n",
       "      <td>4.033426</td>\n",
       "      <td>0.952677</td>\n",
       "      <td>2.0</td>\n",
       "      <td>3.00</td>\n",
       "      <td>4.0</td>\n",
       "      <td>5.00</td>\n",
       "      <td>5.0</td>\n",
       "    </tr>\n",
       "    <tr>\n",
       "      <th>Cylinders</th>\n",
       "      <td>1436.0</td>\n",
       "      <td>4.000000</td>\n",
       "      <td>0.000000</td>\n",
       "      <td>4.0</td>\n",
       "      <td>4.00</td>\n",
       "      <td>4.0</td>\n",
       "      <td>4.00</td>\n",
       "      <td>4.0</td>\n",
       "    </tr>\n",
       "    <tr>\n",
       "      <th>Gears</th>\n",
       "      <td>1436.0</td>\n",
       "      <td>5.026462</td>\n",
       "      <td>0.188510</td>\n",
       "      <td>3.0</td>\n",
       "      <td>5.00</td>\n",
       "      <td>5.0</td>\n",
       "      <td>5.00</td>\n",
       "      <td>6.0</td>\n",
       "    </tr>\n",
       "    <tr>\n",
       "      <th>Quarterly_Tax</th>\n",
       "      <td>1436.0</td>\n",
       "      <td>87.122563</td>\n",
       "      <td>41.128611</td>\n",
       "      <td>19.0</td>\n",
       "      <td>69.00</td>\n",
       "      <td>85.0</td>\n",
       "      <td>85.00</td>\n",
       "      <td>283.0</td>\n",
       "    </tr>\n",
       "    <tr>\n",
       "      <th>Weight</th>\n",
       "      <td>1436.0</td>\n",
       "      <td>1072.459610</td>\n",
       "      <td>52.641120</td>\n",
       "      <td>1000.0</td>\n",
       "      <td>1040.00</td>\n",
       "      <td>1070.0</td>\n",
       "      <td>1085.00</td>\n",
       "      <td>1615.0</td>\n",
       "    </tr>\n",
       "    <tr>\n",
       "      <th>Mfr_Guarantee</th>\n",
       "      <td>1436.0</td>\n",
       "      <td>0.409471</td>\n",
       "      <td>0.491907</td>\n",
       "      <td>0.0</td>\n",
       "      <td>0.00</td>\n",
       "      <td>0.0</td>\n",
       "      <td>1.00</td>\n",
       "      <td>1.0</td>\n",
       "    </tr>\n",
       "    <tr>\n",
       "      <th>BOVAG_Guarantee</th>\n",
       "      <td>1436.0</td>\n",
       "      <td>0.895543</td>\n",
       "      <td>0.305959</td>\n",
       "      <td>0.0</td>\n",
       "      <td>1.00</td>\n",
       "      <td>1.0</td>\n",
       "      <td>1.00</td>\n",
       "      <td>1.0</td>\n",
       "    </tr>\n",
       "    <tr>\n",
       "      <th>Guarantee_Period</th>\n",
       "      <td>1436.0</td>\n",
       "      <td>3.815460</td>\n",
       "      <td>3.011025</td>\n",
       "      <td>3.0</td>\n",
       "      <td>3.00</td>\n",
       "      <td>3.0</td>\n",
       "      <td>3.00</td>\n",
       "      <td>36.0</td>\n",
       "    </tr>\n",
       "    <tr>\n",
       "      <th>ABS</th>\n",
       "      <td>1436.0</td>\n",
       "      <td>0.813370</td>\n",
       "      <td>0.389750</td>\n",
       "      <td>0.0</td>\n",
       "      <td>1.00</td>\n",
       "      <td>1.0</td>\n",
       "      <td>1.00</td>\n",
       "      <td>1.0</td>\n",
       "    </tr>\n",
       "    <tr>\n",
       "      <th>Airbag_1</th>\n",
       "      <td>1436.0</td>\n",
       "      <td>0.970752</td>\n",
       "      <td>0.168559</td>\n",
       "      <td>0.0</td>\n",
       "      <td>1.00</td>\n",
       "      <td>1.0</td>\n",
       "      <td>1.00</td>\n",
       "      <td>1.0</td>\n",
       "    </tr>\n",
       "    <tr>\n",
       "      <th>Airbag_2</th>\n",
       "      <td>1436.0</td>\n",
       "      <td>0.722841</td>\n",
       "      <td>0.447751</td>\n",
       "      <td>0.0</td>\n",
       "      <td>0.00</td>\n",
       "      <td>1.0</td>\n",
       "      <td>1.00</td>\n",
       "      <td>1.0</td>\n",
       "    </tr>\n",
       "    <tr>\n",
       "      <th>Airco</th>\n",
       "      <td>1436.0</td>\n",
       "      <td>0.508357</td>\n",
       "      <td>0.500104</td>\n",
       "      <td>0.0</td>\n",
       "      <td>0.00</td>\n",
       "      <td>1.0</td>\n",
       "      <td>1.00</td>\n",
       "      <td>1.0</td>\n",
       "    </tr>\n",
       "    <tr>\n",
       "      <th>Automatic_airco</th>\n",
       "      <td>1436.0</td>\n",
       "      <td>0.056407</td>\n",
       "      <td>0.230786</td>\n",
       "      <td>0.0</td>\n",
       "      <td>0.00</td>\n",
       "      <td>0.0</td>\n",
       "      <td>0.00</td>\n",
       "      <td>1.0</td>\n",
       "    </tr>\n",
       "    <tr>\n",
       "      <th>Boardcomputer</th>\n",
       "      <td>1436.0</td>\n",
       "      <td>0.294568</td>\n",
       "      <td>0.456007</td>\n",
       "      <td>0.0</td>\n",
       "      <td>0.00</td>\n",
       "      <td>0.0</td>\n",
       "      <td>1.00</td>\n",
       "      <td>1.0</td>\n",
       "    </tr>\n",
       "    <tr>\n",
       "      <th>CD_Player</th>\n",
       "      <td>1436.0</td>\n",
       "      <td>0.218663</td>\n",
       "      <td>0.413483</td>\n",
       "      <td>0.0</td>\n",
       "      <td>0.00</td>\n",
       "      <td>0.0</td>\n",
       "      <td>0.00</td>\n",
       "      <td>1.0</td>\n",
       "    </tr>\n",
       "    <tr>\n",
       "      <th>Central_Lock</th>\n",
       "      <td>1436.0</td>\n",
       "      <td>0.580084</td>\n",
       "      <td>0.493717</td>\n",
       "      <td>0.0</td>\n",
       "      <td>0.00</td>\n",
       "      <td>1.0</td>\n",
       "      <td>1.00</td>\n",
       "      <td>1.0</td>\n",
       "    </tr>\n",
       "    <tr>\n",
       "      <th>Powered_Windows</th>\n",
       "      <td>1436.0</td>\n",
       "      <td>0.561978</td>\n",
       "      <td>0.496317</td>\n",
       "      <td>0.0</td>\n",
       "      <td>0.00</td>\n",
       "      <td>1.0</td>\n",
       "      <td>1.00</td>\n",
       "      <td>1.0</td>\n",
       "    </tr>\n",
       "    <tr>\n",
       "      <th>Power_Steering</th>\n",
       "      <td>1436.0</td>\n",
       "      <td>0.977716</td>\n",
       "      <td>0.147657</td>\n",
       "      <td>0.0</td>\n",
       "      <td>1.00</td>\n",
       "      <td>1.0</td>\n",
       "      <td>1.00</td>\n",
       "      <td>1.0</td>\n",
       "    </tr>\n",
       "    <tr>\n",
       "      <th>Radio</th>\n",
       "      <td>1436.0</td>\n",
       "      <td>0.146240</td>\n",
       "      <td>0.353469</td>\n",
       "      <td>0.0</td>\n",
       "      <td>0.00</td>\n",
       "      <td>0.0</td>\n",
       "      <td>0.00</td>\n",
       "      <td>1.0</td>\n",
       "    </tr>\n",
       "    <tr>\n",
       "      <th>Mistlamps</th>\n",
       "      <td>1436.0</td>\n",
       "      <td>0.256964</td>\n",
       "      <td>0.437111</td>\n",
       "      <td>0.0</td>\n",
       "      <td>0.00</td>\n",
       "      <td>0.0</td>\n",
       "      <td>1.00</td>\n",
       "      <td>1.0</td>\n",
       "    </tr>\n",
       "    <tr>\n",
       "      <th>Sport_Model</th>\n",
       "      <td>1436.0</td>\n",
       "      <td>0.300139</td>\n",
       "      <td>0.458478</td>\n",
       "      <td>0.0</td>\n",
       "      <td>0.00</td>\n",
       "      <td>0.0</td>\n",
       "      <td>1.00</td>\n",
       "      <td>1.0</td>\n",
       "    </tr>\n",
       "    <tr>\n",
       "      <th>Backseat_Divider</th>\n",
       "      <td>1436.0</td>\n",
       "      <td>0.770195</td>\n",
       "      <td>0.420854</td>\n",
       "      <td>0.0</td>\n",
       "      <td>1.00</td>\n",
       "      <td>1.0</td>\n",
       "      <td>1.00</td>\n",
       "      <td>1.0</td>\n",
       "    </tr>\n",
       "    <tr>\n",
       "      <th>Metallic_Rim</th>\n",
       "      <td>1436.0</td>\n",
       "      <td>0.204735</td>\n",
       "      <td>0.403649</td>\n",
       "      <td>0.0</td>\n",
       "      <td>0.00</td>\n",
       "      <td>0.0</td>\n",
       "      <td>0.00</td>\n",
       "      <td>1.0</td>\n",
       "    </tr>\n",
       "    <tr>\n",
       "      <th>Radio_cassette</th>\n",
       "      <td>1436.0</td>\n",
       "      <td>0.145543</td>\n",
       "      <td>0.352770</td>\n",
       "      <td>0.0</td>\n",
       "      <td>0.00</td>\n",
       "      <td>0.0</td>\n",
       "      <td>0.00</td>\n",
       "      <td>1.0</td>\n",
       "    </tr>\n",
       "    <tr>\n",
       "      <th>Parking_Assistant</th>\n",
       "      <td>1436.0</td>\n",
       "      <td>0.002786</td>\n",
       "      <td>0.052723</td>\n",
       "      <td>0.0</td>\n",
       "      <td>0.00</td>\n",
       "      <td>0.0</td>\n",
       "      <td>0.00</td>\n",
       "      <td>1.0</td>\n",
       "    </tr>\n",
       "    <tr>\n",
       "      <th>Tow_Bar</th>\n",
       "      <td>1436.0</td>\n",
       "      <td>0.277855</td>\n",
       "      <td>0.448098</td>\n",
       "      <td>0.0</td>\n",
       "      <td>0.00</td>\n",
       "      <td>0.0</td>\n",
       "      <td>1.00</td>\n",
       "      <td>1.0</td>\n",
       "    </tr>\n",
       "  </tbody>\n",
       "</table>\n",
       "</div>"
      ],
      "text/plain": [
       "                    count          mean           std     min       25%  \\\n",
       "Id                 1436.0    721.555014    416.476890     1.0    361.75   \n",
       "Price              1436.0  10730.824513   3626.964585  4350.0   8450.00   \n",
       "Age_08_04          1436.0     55.947075     18.599988     1.0     44.00   \n",
       "Mfg_Month          1436.0      5.548747      3.354085     1.0      3.00   \n",
       "Mfg_Year           1436.0   1999.625348      1.540722  1998.0   1998.00   \n",
       "KM                 1436.0  68533.259749  37506.448872     1.0  43000.00   \n",
       "HP                 1436.0    101.502089     14.981080    69.0     90.00   \n",
       "Met_Color          1436.0      0.674791      0.468616     0.0      0.00   \n",
       "Automatic          1436.0      0.055710      0.229441     0.0      0.00   \n",
       "CC                 1436.0   1576.855850    424.386770  1300.0   1400.00   \n",
       "Doors              1436.0      4.033426      0.952677     2.0      3.00   \n",
       "Cylinders          1436.0      4.000000      0.000000     4.0      4.00   \n",
       "Gears              1436.0      5.026462      0.188510     3.0      5.00   \n",
       "Quarterly_Tax      1436.0     87.122563     41.128611    19.0     69.00   \n",
       "Weight             1436.0   1072.459610     52.641120  1000.0   1040.00   \n",
       "Mfr_Guarantee      1436.0      0.409471      0.491907     0.0      0.00   \n",
       "BOVAG_Guarantee    1436.0      0.895543      0.305959     0.0      1.00   \n",
       "Guarantee_Period   1436.0      3.815460      3.011025     3.0      3.00   \n",
       "ABS                1436.0      0.813370      0.389750     0.0      1.00   \n",
       "Airbag_1           1436.0      0.970752      0.168559     0.0      1.00   \n",
       "Airbag_2           1436.0      0.722841      0.447751     0.0      0.00   \n",
       "Airco              1436.0      0.508357      0.500104     0.0      0.00   \n",
       "Automatic_airco    1436.0      0.056407      0.230786     0.0      0.00   \n",
       "Boardcomputer      1436.0      0.294568      0.456007     0.0      0.00   \n",
       "CD_Player          1436.0      0.218663      0.413483     0.0      0.00   \n",
       "Central_Lock       1436.0      0.580084      0.493717     0.0      0.00   \n",
       "Powered_Windows    1436.0      0.561978      0.496317     0.0      0.00   \n",
       "Power_Steering     1436.0      0.977716      0.147657     0.0      1.00   \n",
       "Radio              1436.0      0.146240      0.353469     0.0      0.00   \n",
       "Mistlamps          1436.0      0.256964      0.437111     0.0      0.00   \n",
       "Sport_Model        1436.0      0.300139      0.458478     0.0      0.00   \n",
       "Backseat_Divider   1436.0      0.770195      0.420854     0.0      1.00   \n",
       "Metallic_Rim       1436.0      0.204735      0.403649     0.0      0.00   \n",
       "Radio_cassette     1436.0      0.145543      0.352770     0.0      0.00   \n",
       "Parking_Assistant  1436.0      0.002786      0.052723     0.0      0.00   \n",
       "Tow_Bar            1436.0      0.277855      0.448098     0.0      0.00   \n",
       "\n",
       "                       50%       75%       max  \n",
       "Id                   721.5   1081.25    1442.0  \n",
       "Price               9900.0  11950.00   32500.0  \n",
       "Age_08_04             61.0     70.00      80.0  \n",
       "Mfg_Month              5.0      8.00      12.0  \n",
       "Mfg_Year            1999.0   2001.00    2004.0  \n",
       "KM                 63389.5  87020.75  243000.0  \n",
       "HP                   110.0    110.00     192.0  \n",
       "Met_Color              1.0      1.00       1.0  \n",
       "Automatic              0.0      0.00       1.0  \n",
       "CC                  1600.0   1600.00   16000.0  \n",
       "Doors                  4.0      5.00       5.0  \n",
       "Cylinders              4.0      4.00       4.0  \n",
       "Gears                  5.0      5.00       6.0  \n",
       "Quarterly_Tax         85.0     85.00     283.0  \n",
       "Weight              1070.0   1085.00    1615.0  \n",
       "Mfr_Guarantee          0.0      1.00       1.0  \n",
       "BOVAG_Guarantee        1.0      1.00       1.0  \n",
       "Guarantee_Period       3.0      3.00      36.0  \n",
       "ABS                    1.0      1.00       1.0  \n",
       "Airbag_1               1.0      1.00       1.0  \n",
       "Airbag_2               1.0      1.00       1.0  \n",
       "Airco                  1.0      1.00       1.0  \n",
       "Automatic_airco        0.0      0.00       1.0  \n",
       "Boardcomputer          0.0      1.00       1.0  \n",
       "CD_Player              0.0      0.00       1.0  \n",
       "Central_Lock           1.0      1.00       1.0  \n",
       "Powered_Windows        1.0      1.00       1.0  \n",
       "Power_Steering         1.0      1.00       1.0  \n",
       "Radio                  0.0      0.00       1.0  \n",
       "Mistlamps              0.0      1.00       1.0  \n",
       "Sport_Model            0.0      1.00       1.0  \n",
       "Backseat_Divider       1.0      1.00       1.0  \n",
       "Metallic_Rim           0.0      0.00       1.0  \n",
       "Radio_cassette         0.0      0.00       1.0  \n",
       "Parking_Assistant      0.0      0.00       1.0  \n",
       "Tow_Bar                0.0      1.00       1.0  "
      ]
     },
     "execution_count": 5,
     "metadata": {},
     "output_type": "execute_result"
    }
   ],
   "source": [
    "# get the descriptive summary\n",
    "dat.describe().transpose()"
   ]
  },
  {
   "cell_type": "markdown",
   "metadata": {},
   "source": [
    "## 1.2 Data transformation"
   ]
  },
  {
   "cell_type": "markdown",
   "metadata": {},
   "source": [
    "The categorical/string columns cannot be directly used as input for most algorithms. Let's create dummies for them."
   ]
  },
  {
   "cell_type": "code",
   "execution_count": 6,
   "metadata": {},
   "outputs": [
    {
     "data": {
      "text/html": [
       "<div>\n",
       "<style scoped>\n",
       "    .dataframe tbody tr th:only-of-type {\n",
       "        vertical-align: middle;\n",
       "    }\n",
       "\n",
       "    .dataframe tbody tr th {\n",
       "        vertical-align: top;\n",
       "    }\n",
       "\n",
       "    .dataframe thead th {\n",
       "        text-align: right;\n",
       "    }\n",
       "</style>\n",
       "<table border=\"1\" class=\"dataframe\">\n",
       "  <thead>\n",
       "    <tr style=\"text-align: right;\">\n",
       "      <th></th>\n",
       "      <th>CNG</th>\n",
       "      <th>Diesel</th>\n",
       "      <th>Petrol</th>\n",
       "    </tr>\n",
       "  </thead>\n",
       "  <tbody>\n",
       "    <tr>\n",
       "      <th>0</th>\n",
       "      <td>0</td>\n",
       "      <td>1</td>\n",
       "      <td>0</td>\n",
       "    </tr>\n",
       "    <tr>\n",
       "      <th>1</th>\n",
       "      <td>0</td>\n",
       "      <td>1</td>\n",
       "      <td>0</td>\n",
       "    </tr>\n",
       "    <tr>\n",
       "      <th>2</th>\n",
       "      <td>0</td>\n",
       "      <td>1</td>\n",
       "      <td>0</td>\n",
       "    </tr>\n",
       "    <tr>\n",
       "      <th>3</th>\n",
       "      <td>0</td>\n",
       "      <td>1</td>\n",
       "      <td>0</td>\n",
       "    </tr>\n",
       "    <tr>\n",
       "      <th>4</th>\n",
       "      <td>0</td>\n",
       "      <td>1</td>\n",
       "      <td>0</td>\n",
       "    </tr>\n",
       "  </tbody>\n",
       "</table>\n",
       "</div>"
      ],
      "text/plain": [
       "   CNG  Diesel  Petrol\n",
       "0    0       1       0\n",
       "1    0       1       0\n",
       "2    0       1       0\n",
       "3    0       1       0\n",
       "4    0       1       0"
      ]
     },
     "execution_count": 6,
     "metadata": {},
     "output_type": "execute_result"
    }
   ],
   "source": [
    "Fuel_Type=pd.get_dummies(dat['Fuel_Type'])\n",
    "Fuel_Type.head(5)"
   ]
  },
  {
   "cell_type": "code",
   "execution_count": 7,
   "metadata": {},
   "outputs": [
    {
     "data": {
      "text/html": [
       "<div>\n",
       "<style scoped>\n",
       "    .dataframe tbody tr th:only-of-type {\n",
       "        vertical-align: middle;\n",
       "    }\n",
       "\n",
       "    .dataframe tbody tr th {\n",
       "        vertical-align: top;\n",
       "    }\n",
       "\n",
       "    .dataframe thead th {\n",
       "        text-align: right;\n",
       "    }\n",
       "</style>\n",
       "<table border=\"1\" class=\"dataframe\">\n",
       "  <thead>\n",
       "    <tr style=\"text-align: right;\">\n",
       "      <th></th>\n",
       "      <th>Fuel_Type_CNG</th>\n",
       "      <th>Fuel_Type_Diesel</th>\n",
       "      <th>Fuel_Type_Petrol</th>\n",
       "    </tr>\n",
       "  </thead>\n",
       "  <tbody>\n",
       "    <tr>\n",
       "      <th>0</th>\n",
       "      <td>0</td>\n",
       "      <td>1</td>\n",
       "      <td>0</td>\n",
       "    </tr>\n",
       "    <tr>\n",
       "      <th>1</th>\n",
       "      <td>0</td>\n",
       "      <td>1</td>\n",
       "      <td>0</td>\n",
       "    </tr>\n",
       "    <tr>\n",
       "      <th>2</th>\n",
       "      <td>0</td>\n",
       "      <td>1</td>\n",
       "      <td>0</td>\n",
       "    </tr>\n",
       "    <tr>\n",
       "      <th>3</th>\n",
       "      <td>0</td>\n",
       "      <td>1</td>\n",
       "      <td>0</td>\n",
       "    </tr>\n",
       "    <tr>\n",
       "      <th>4</th>\n",
       "      <td>0</td>\n",
       "      <td>1</td>\n",
       "      <td>0</td>\n",
       "    </tr>\n",
       "  </tbody>\n",
       "</table>\n",
       "</div>"
      ],
      "text/plain": [
       "   Fuel_Type_CNG  Fuel_Type_Diesel  Fuel_Type_Petrol\n",
       "0              0                 1                 0\n",
       "1              0                 1                 0\n",
       "2              0                 1                 0\n",
       "3              0                 1                 0\n",
       "4              0                 1                 0"
      ]
     },
     "execution_count": 7,
     "metadata": {},
     "output_type": "execute_result"
    }
   ],
   "source": [
    "# add prefix\n",
    "Fuel_Type=pd.get_dummies(dat['Fuel_Type'],prefix='Fuel_Type')\n",
    "Fuel_Type.head(5)"
   ]
  },
  {
   "cell_type": "code",
   "execution_count": 8,
   "metadata": {},
   "outputs": [
    {
     "data": {
      "text/html": [
       "<div>\n",
       "<style scoped>\n",
       "    .dataframe tbody tr th:only-of-type {\n",
       "        vertical-align: middle;\n",
       "    }\n",
       "\n",
       "    .dataframe tbody tr th {\n",
       "        vertical-align: top;\n",
       "    }\n",
       "\n",
       "    .dataframe thead th {\n",
       "        text-align: right;\n",
       "    }\n",
       "</style>\n",
       "<table border=\"1\" class=\"dataframe\">\n",
       "  <thead>\n",
       "    <tr style=\"text-align: right;\">\n",
       "      <th></th>\n",
       "      <th>Color_Beige</th>\n",
       "      <th>Color_Black</th>\n",
       "      <th>Color_Blue</th>\n",
       "      <th>Color_Green</th>\n",
       "      <th>Color_Grey</th>\n",
       "      <th>Color_Red</th>\n",
       "      <th>Color_Silver</th>\n",
       "      <th>Color_Violet</th>\n",
       "      <th>Color_White</th>\n",
       "      <th>Color_Yellow</th>\n",
       "    </tr>\n",
       "  </thead>\n",
       "  <tbody>\n",
       "    <tr>\n",
       "      <th>0</th>\n",
       "      <td>0</td>\n",
       "      <td>0</td>\n",
       "      <td>1</td>\n",
       "      <td>0</td>\n",
       "      <td>0</td>\n",
       "      <td>0</td>\n",
       "      <td>0</td>\n",
       "      <td>0</td>\n",
       "      <td>0</td>\n",
       "      <td>0</td>\n",
       "    </tr>\n",
       "    <tr>\n",
       "      <th>1</th>\n",
       "      <td>0</td>\n",
       "      <td>0</td>\n",
       "      <td>0</td>\n",
       "      <td>0</td>\n",
       "      <td>0</td>\n",
       "      <td>0</td>\n",
       "      <td>1</td>\n",
       "      <td>0</td>\n",
       "      <td>0</td>\n",
       "      <td>0</td>\n",
       "    </tr>\n",
       "    <tr>\n",
       "      <th>2</th>\n",
       "      <td>0</td>\n",
       "      <td>0</td>\n",
       "      <td>1</td>\n",
       "      <td>0</td>\n",
       "      <td>0</td>\n",
       "      <td>0</td>\n",
       "      <td>0</td>\n",
       "      <td>0</td>\n",
       "      <td>0</td>\n",
       "      <td>0</td>\n",
       "    </tr>\n",
       "    <tr>\n",
       "      <th>3</th>\n",
       "      <td>0</td>\n",
       "      <td>1</td>\n",
       "      <td>0</td>\n",
       "      <td>0</td>\n",
       "      <td>0</td>\n",
       "      <td>0</td>\n",
       "      <td>0</td>\n",
       "      <td>0</td>\n",
       "      <td>0</td>\n",
       "      <td>0</td>\n",
       "    </tr>\n",
       "    <tr>\n",
       "      <th>4</th>\n",
       "      <td>0</td>\n",
       "      <td>1</td>\n",
       "      <td>0</td>\n",
       "      <td>0</td>\n",
       "      <td>0</td>\n",
       "      <td>0</td>\n",
       "      <td>0</td>\n",
       "      <td>0</td>\n",
       "      <td>0</td>\n",
       "      <td>0</td>\n",
       "    </tr>\n",
       "  </tbody>\n",
       "</table>\n",
       "</div>"
      ],
      "text/plain": [
       "   Color_Beige  Color_Black  Color_Blue  Color_Green  Color_Grey  Color_Red  \\\n",
       "0            0            0           1            0           0          0   \n",
       "1            0            0           0            0           0          0   \n",
       "2            0            0           1            0           0          0   \n",
       "3            0            1           0            0           0          0   \n",
       "4            0            1           0            0           0          0   \n",
       "\n",
       "   Color_Silver  Color_Violet  Color_White  Color_Yellow  \n",
       "0             0             0            0             0  \n",
       "1             1             0            0             0  \n",
       "2             0             0            0             0  \n",
       "3             0             0            0             0  \n",
       "4             0             0            0             0  "
      ]
     },
     "execution_count": 8,
     "metadata": {},
     "output_type": "execute_result"
    }
   ],
   "source": [
    "Color=pd.get_dummies(dat['Color'],prefix='Color')\n",
    "Color.head(5)"
   ]
  },
  {
   "cell_type": "code",
   "execution_count": 9,
   "metadata": {},
   "outputs": [
    {
     "name": "stdout",
     "output_type": "stream",
     "text": [
      "<class 'pandas.core.frame.DataFrame'>\n",
      "RangeIndex: 1436 entries, 0 to 1435\n",
      "Data columns (total 48 columns):\n",
      "Fuel_Type_CNG        1436 non-null uint8\n",
      "Fuel_Type_Diesel     1436 non-null uint8\n",
      "Fuel_Type_Petrol     1436 non-null uint8\n",
      "Color_Beige          1436 non-null uint8\n",
      "Color_Black          1436 non-null uint8\n",
      "Color_Blue           1436 non-null uint8\n",
      "Color_Green          1436 non-null uint8\n",
      "Color_Grey           1436 non-null uint8\n",
      "Color_Red            1436 non-null uint8\n",
      "Color_Silver         1436 non-null uint8\n",
      "Color_Violet         1436 non-null uint8\n",
      "Color_White          1436 non-null uint8\n",
      "Color_Yellow         1436 non-null uint8\n",
      "Price                1436 non-null int64\n",
      "Age_08_04            1436 non-null int64\n",
      "Mfg_Month            1436 non-null int64\n",
      "Mfg_Year             1436 non-null int64\n",
      "KM                   1436 non-null int64\n",
      "HP                   1436 non-null int64\n",
      "Met_Color            1436 non-null int64\n",
      "Automatic            1436 non-null int64\n",
      "CC                   1436 non-null int64\n",
      "Doors                1436 non-null int64\n",
      "Cylinders            1436 non-null int64\n",
      "Gears                1436 non-null int64\n",
      "Quarterly_Tax        1436 non-null int64\n",
      "Weight               1436 non-null int64\n",
      "Mfr_Guarantee        1436 non-null int64\n",
      "BOVAG_Guarantee      1436 non-null int64\n",
      "Guarantee_Period     1436 non-null int64\n",
      "ABS                  1436 non-null int64\n",
      "Airbag_1             1436 non-null int64\n",
      "Airbag_2             1436 non-null int64\n",
      "Airco                1436 non-null int64\n",
      "Automatic_airco      1436 non-null int64\n",
      "Boardcomputer        1436 non-null int64\n",
      "CD_Player            1436 non-null int64\n",
      "Central_Lock         1436 non-null int64\n",
      "Powered_Windows      1436 non-null int64\n",
      "Power_Steering       1436 non-null int64\n",
      "Radio                1436 non-null int64\n",
      "Mistlamps            1436 non-null int64\n",
      "Sport_Model          1436 non-null int64\n",
      "Backseat_Divider     1436 non-null int64\n",
      "Metallic_Rim         1436 non-null int64\n",
      "Radio_cassette       1436 non-null int64\n",
      "Parking_Assistant    1436 non-null int64\n",
      "Tow_Bar              1436 non-null int64\n",
      "dtypes: int64(35), uint8(13)\n",
      "memory usage: 411.0 KB\n"
     ]
    }
   ],
   "source": [
    "# Concat all dummies and continuous variables to create predictors X\n",
    "# drop Id and Model\n",
    "dat2=pd.concat([Fuel_Type,Color,\n",
    "                dat.drop(['Id','Model','Fuel_Type','Color'],axis=1)\n",
    "               ],\n",
    "               axis=1)\n",
    "dat2.info()"
   ]
  },
  {
   "cell_type": "markdown",
   "metadata": {},
   "source": [
    "## 1.3 Create predictors(X) and response(y)"
   ]
  },
  {
   "cell_type": "code",
   "execution_count": 10,
   "metadata": {},
   "outputs": [],
   "source": [
    "# create X and y\n",
    "X1=dat2.drop(['Price'],axis=1)\n",
    "y1=dat2['Price'].copy()"
   ]
  },
  {
   "cell_type": "code",
   "execution_count": 11,
   "metadata": {},
   "outputs": [
    {
     "data": {
      "text/plain": [
       "(1436, 47)"
      ]
     },
     "execution_count": 11,
     "metadata": {},
     "output_type": "execute_result"
    }
   ],
   "source": [
    "X1.shape"
   ]
  },
  {
   "cell_type": "code",
   "execution_count": 12,
   "metadata": {},
   "outputs": [
    {
     "data": {
      "text/plain": [
       "(1436,)"
      ]
     },
     "execution_count": 12,
     "metadata": {},
     "output_type": "execute_result"
    }
   ],
   "source": [
    "y1.shape"
   ]
  },
  {
   "cell_type": "markdown",
   "metadata": {},
   "source": [
    "## 1.4 Data scaling"
   ]
  },
  {
   "cell_type": "code",
   "execution_count": 13,
   "metadata": {},
   "outputs": [
    {
     "name": "stderr",
     "output_type": "stream",
     "text": [
      "C:\\ProgramData\\Anaconda3\\lib\\site-packages\\sklearn\\preprocessing\\data.py:625: DataConversionWarning: Data with input dtype uint8, int64 were all converted to float64 by StandardScaler.\n",
      "  return self.partial_fit(X, y)\n",
      "C:\\ProgramData\\Anaconda3\\lib\\site-packages\\sklearn\\base.py:462: DataConversionWarning: Data with input dtype uint8, int64 were all converted to float64 by StandardScaler.\n",
      "  return self.fit(X, **fit_params).transform(X)\n",
      "C:\\ProgramData\\Anaconda3\\lib\\site-packages\\sklearn\\utils\\validation.py:595: DataConversionWarning: Data with input dtype int64 was converted to float64 by StandardScaler.\n",
      "  warnings.warn(msg, DataConversionWarning)\n",
      "C:\\ProgramData\\Anaconda3\\lib\\site-packages\\sklearn\\utils\\validation.py:595: DataConversionWarning: Data with input dtype int64 was converted to float64 by StandardScaler.\n",
      "  warnings.warn(msg, DataConversionWarning)\n"
     ]
    }
   ],
   "source": [
    "# it is usually recommended to scale data before apply ANN\n",
    "from sklearn.preprocessing import StandardScaler\n",
    "scaler = StandardScaler()\n",
    "X2=scaler.fit_transform(X1)\n",
    "y2=scaler.fit_transform(y1.values.reshape(-1,1))"
   ]
  },
  {
   "cell_type": "code",
   "execution_count": 14,
   "metadata": {},
   "outputs": [
    {
     "data": {
      "text/plain": [
       "array([[-0.10945441,  2.87480715, -2.71087388, ..., -0.41271558,\n",
       "        -0.05285164, -0.62029327],\n",
       "       [-0.10945441,  2.87480715, -2.71087388, ..., -0.41271558,\n",
       "        -0.05285164, -0.62029327],\n",
       "       [-0.10945441,  2.87480715, -2.71087388, ..., -0.41271558,\n",
       "        -0.05285164, -0.62029327],\n",
       "       ...,\n",
       "       [-0.10945441, -0.34784942,  0.36888474, ..., -0.41271558,\n",
       "        -0.05285164, -0.62029327],\n",
       "       [-0.10945441, -0.34784942,  0.36888474, ..., -0.41271558,\n",
       "        -0.05285164, -0.62029327],\n",
       "       [-0.10945441, -0.34784942,  0.36888474, ..., -0.41271558,\n",
       "        -0.05285164, -0.62029327]])"
      ]
     },
     "execution_count": 14,
     "metadata": {},
     "output_type": "execute_result"
    }
   ],
   "source": [
    "X2"
   ]
  },
  {
   "cell_type": "code",
   "execution_count": 15,
   "metadata": {},
   "outputs": [
    {
     "data": {
      "text/plain": [
       "array([[ 0.76376268],\n",
       "       [ 0.83271485],\n",
       "       [ 0.88787659],\n",
       "       ...,\n",
       "       [-0.6152808 ],\n",
       "       [-0.96004167],\n",
       "       [-1.04278428]])"
      ]
     },
     "execution_count": 15,
     "metadata": {},
     "output_type": "execute_result"
    }
   ],
   "source": [
    "y2"
   ]
  },
  {
   "cell_type": "markdown",
   "metadata": {},
   "source": [
    "## 1.4 Data partition"
   ]
  },
  {
   "cell_type": "code",
   "execution_count": 16,
   "metadata": {},
   "outputs": [],
   "source": [
    "'''\n",
    "30-70% simple split, training dataset contains 70% data, testing dataset contains 30% data.\n",
    "train data is used to train a model, and test data is used to test model performance.\n",
    "To make results reproducible, set the random_state.\n",
    "'''\n",
    "from sklearn import model_selection\n",
    "train_y,test_y,train_X,test_X=model_selection.train_test_split(y2,X2,test_size=0.3,random_state=123)"
   ]
  },
  {
   "cell_type": "markdown",
   "metadata": {},
   "source": [
    "# 2. Predictive modeling"
   ]
  },
  {
   "cell_type": "markdown",
   "metadata": {},
   "source": [
    "## 2.1 Train an ANN model"
   ]
  },
  {
   "cell_type": "code",
   "execution_count": 17,
   "metadata": {},
   "outputs": [
    {
     "data": {
      "image/png": "[encoded data removed]",
      "text/plain": [
       "<Figure size 432x288 with 1 Axes>"
      ]
     },
     "metadata": {
      "needs_background": "light"
     },
     "output_type": "display_data"
    }
   ],
   "source": [
    "# define a function to plot learning curves\n",
    "def plot_learning_curve(estimator, title, X, y, ylim=None, cv=None,\n",
    "                        n_jobs=None, train_sizes=np.linspace(.1, 1.0, 5)):\n",
    "    plt.figure()\n",
    "    plt.title(title)\n",
    "    plt.xlabel(\"Training examples\")\n",
    "    plt.ylabel(\"Score\")\n",
    "    train_sizes, train_scores, test_scores = learning_curve(\n",
    "        estimator, X, y, cv=cv, n_jobs=n_jobs, train_sizes=train_sizes)\n",
    "    train_scores_mean = np.mean(train_scores, axis=1)\n",
    "    train_scores_std = np.std(train_scores, axis=1)\n",
    "    test_scores_mean = np.mean(test_scores, axis=1)\n",
    "    test_scores_std = np.std(test_scores, axis=1)\n",
    "    plt.grid()\n",
    "\n",
    "    plt.fill_between(train_sizes, train_scores_mean - train_scores_std,\n",
    "                     train_scores_mean + train_scores_std, alpha=0.1,\n",
    "                     color=\"r\")\n",
    "    plt.fill_between(train_sizes, test_scores_mean - test_scores_std,\n",
    "                     test_scores_mean + test_scores_std, alpha=0.1, color=\"g\")\n",
    "    plt.plot(train_sizes, train_scores_mean, color=\"r\", label=\"Training score\")\n",
    "    plt.plot(train_sizes, test_scores_mean, color=\"g\", label=\"Cross-validation score\")   \n",
    "    plt.legend(loc=\"best\")\n",
    "    return plt\n",
    "\n",
    "X= train_X\n",
    "y = train_y\n",
    "\n",
    "title = \"Learning Curves (ANN)\"\n",
    "# Cross validation with 100 iterations to get smoother mean test and train\n",
    "# score curves, each time with 20% data randomly selected as a validation set.\n",
    "cv = ShuffleSplit(n_splits=100, test_size=0.2, random_state=0)\n",
    "\n",
    "estimator = MLPRegressor(alpha=1e-3)\n",
    "plot_learning_curve(estimator, title, X, y, cv=cv, n_jobs=4)\n",
    "\n",
    "plt.show()"
   ]
  },
  {
   "cell_type": "markdown",
   "metadata": {},
   "source": [
    "We can see that there is gap between training score and validation score, we have overfitting problem in our model. This is probably because datasize is not large enough. If we have large enough data, the gap will become smaller. Also we can tune hypermeters to solve overfitting problem."
   ]
  },
  {
   "cell_type": "code",
   "execution_count": 18,
   "metadata": {},
   "outputs": [
    {
     "name": "stderr",
     "output_type": "stream",
     "text": [
      "C:\\ProgramData\\Anaconda3\\lib\\site-packages\\sklearn\\neural_network\\multilayer_perceptron.py:1316: DataConversionWarning: A column-vector y was passed when a 1d array was expected. Please change the shape of y to (n_samples, ), for example using ravel().\n",
      "  y = column_or_1d(y, warn=True)\n"
     ]
    },
    {
     "data": {
      "text/plain": [
       "MLPRegressor(activation='relu', alpha=0.001, batch_size='auto', beta_1=0.9,\n",
       "       beta_2=0.999, early_stopping=False, epsilon=1e-08,\n",
       "       hidden_layer_sizes=(100,), learning_rate='constant',\n",
       "       learning_rate_init=0.001, max_iter=200, momentum=0.9,\n",
       "       n_iter_no_change=10, nesterovs_momentum=True, power_t=0.5,\n",
       "       random_state=None, shuffle=True, solver='adam', tol=0.0001,\n",
       "       validation_fraction=0.1, verbose=False, warm_start=False)"
      ]
     },
     "execution_count": 18,
     "metadata": {},
     "output_type": "execute_result"
    }
   ],
   "source": [
    "estimator.fit(train_X, train_y)"
   ]
  },
  {
   "cell_type": "code",
   "execution_count": 19,
   "metadata": {},
   "outputs": [
    {
     "data": {
      "text/plain": [
       "Text(0.5, 0, 'Iteration')"
      ]
     },
     "execution_count": 19,
     "metadata": {},
     "output_type": "execute_result"
    },
    {
     "data": {
      "image/png": "[encoded data removed]",
      "text/plain": [
       "<Figure size 432x288 with 1 Axes>"
      ]
     },
     "metadata": {
      "needs_background": "light"
     },
     "output_type": "display_data"
    }
   ],
   "source": [
    "# plot loss curve\n",
    "pd.DataFrame(estimator.loss_curve_).plot()\n",
    "plt.ylabel('Loss')\n",
    "plt.xlabel('Iteration')\n",
    "# plt.xlim([0, 200])"
   ]
  },
  {
   "cell_type": "markdown",
   "metadata": {},
   "source": [
    "## 2.2 Evaluate model performance"
   ]
  },
  {
   "cell_type": "code",
   "execution_count": 20,
   "metadata": {},
   "outputs": [
    {
     "data": {
      "text/plain": [
       "count    431.000000\n",
       "mean       0.093035\n",
       "std        1.012216\n",
       "min       -2.203611\n",
       "25%       -0.539717\n",
       "50%       -0.183861\n",
       "75%        0.397061\n",
       "max        5.814998\n",
       "dtype: float64"
      ]
     },
     "execution_count": 20,
     "metadata": {},
     "output_type": "execute_result"
    }
   ],
   "source": [
    "# predict on test data\n",
    "pred_y1=estimator.predict(test_X)\n",
    "pd.Series(pred_y1).describe()"
   ]
  },
  {
   "cell_type": "markdown",
   "metadata": {},
   "source": [
    "We notice that the predicted price is in the normalized scale. We need to covert it back to the original scale."
   ]
  },
  {
   "cell_type": "code",
   "execution_count": 21,
   "metadata": {},
   "outputs": [
    {
     "data": {
      "text/plain": [
       "count      431.000000\n",
       "mean     11068.140860\n",
       "std       3669.991734\n",
       "min       2741.189899\n",
       "25%       8773.972670\n",
       "50%      10064.200328\n",
       "75%      12170.450645\n",
       "max      31814.270561\n",
       "dtype: float64"
      ]
     },
     "execution_count": 21,
     "metadata": {},
     "output_type": "execute_result"
    }
   ],
   "source": [
    "pred_y1_raw=scaler.inverse_transform(pred_y1.reshape(-1,1))\n",
    "pred_y1_raw=pd.Series(pred_y1_raw.reshape(pred_y1.shape[0]))\n",
    "pred_y1_raw.describe()"
   ]
  },
  {
   "cell_type": "code",
   "execution_count": 22,
   "metadata": {},
   "outputs": [
    {
     "data": {
      "text/plain": [
       "count      431.000000\n",
       "mean     10848.401392\n",
       "std       3724.719780\n",
       "min       5740.000000\n",
       "25%       8450.000000\n",
       "50%       9900.000000\n",
       "75%      11970.000000\n",
       "max      31000.000000\n",
       "dtype: float64"
      ]
     },
     "execution_count": 22,
     "metadata": {},
     "output_type": "execute_result"
    }
   ],
   "source": [
    "# convert test_y back to the original scale\n",
    "test_y_raw=scaler.inverse_transform(test_y.reshape(-1,1))\n",
    "test_y_raw=pd.Series(test_y_raw.reshape(test_y.shape[0]))\n",
    "test_y_raw.describe()"
   ]
  },
  {
   "cell_type": "code",
   "execution_count": 23,
   "metadata": {},
   "outputs": [
    {
     "data": {
      "image/png": "[encoded data removed]",
      "text/plain": [
       "<Figure size 432x288 with 1 Axes>"
      ]
     },
     "metadata": {
      "needs_background": "light"
     },
     "output_type": "display_data"
    }
   ],
   "source": [
    "# compare predicted price with actual price\n",
    "plt.scatter(test_y_raw,pred_y1_raw)\n",
    "plt.xlabel('Actual Price')\n",
    "plt.ylabel('Predicted Price')\n",
    "plt.show()"
   ]
  },
  {
   "cell_type": "markdown",
   "metadata": {},
   "source": [
    "Calculate some performance metrics."
   ]
  },
  {
   "cell_type": "code",
   "execution_count": 24,
   "metadata": {},
   "outputs": [
    {
     "data": {
      "text/plain": [
       "947.200410152776"
      ]
     },
     "execution_count": 24,
     "metadata": {},
     "output_type": "execute_result"
    }
   ],
   "source": [
    "from sklearn import metrics\n",
    "\n",
    "# calculate Mean Absolute Error(MAE)\n",
    "metrics.mean_absolute_error(test_y_raw,pred_y1_raw)"
   ]
  },
  {
   "cell_type": "code",
   "execution_count": 25,
   "metadata": {},
   "outputs": [
    {
     "data": {
      "text/plain": [
       "1851976.765561589"
      ]
     },
     "execution_count": 25,
     "metadata": {},
     "output_type": "execute_result"
    }
   ],
   "source": [
    "# calculate Mean Squared Error(MSE)\n",
    "metrics.mean_squared_error(test_y_raw,pred_y1_raw)"
   ]
  },
  {
   "cell_type": "code",
   "execution_count": 26,
   "metadata": {},
   "outputs": [
    {
     "data": {
      "text/plain": [
       "0.8661996843855825"
      ]
     },
     "execution_count": 26,
     "metadata": {},
     "output_type": "execute_result"
    }
   ],
   "source": [
    "# calculate R squared\n",
    "metrics.r2_score(test_y_raw, pred_y1_raw)"
   ]
  },
  {
   "cell_type": "markdown",
   "metadata": {},
   "source": [
    "## 2.3 Tune hypermeters to mitigate overfitting problem"
   ]
  },
  {
   "cell_type": "code",
   "execution_count": 33,
   "metadata": {},
   "outputs": [
    {
     "data": {
      "image/png": "[encoded data removed]",
      "text/plain": [
       "<Figure size 432x288 with 1 Axes>"
      ]
     },
     "metadata": {
      "needs_background": "light"
     },
     "output_type": "display_data"
    }
   ],
   "source": [
    "# tune hypermeters to avoid overfitting problem\n",
    "estimator2 = MLPRegressor(alpha=0.5)\n",
    "plot_learning_curve(estimator2, title, X, y, cv=cv, n_jobs=4)\n",
    "plt.show()"
   ]
  },
  {
   "cell_type": "markdown",
   "metadata": {},
   "source": [
    "We can see that the gap between training and validation is decreased. Thus, the overfitting problem is mitigated."
   ]
  },
  {
   "cell_type": "code",
   "execution_count": 39,
   "metadata": {},
   "outputs": [
    {
     "name": "stderr",
     "output_type": "stream",
     "text": [
      "C:\\ProgramData\\Anaconda3\\lib\\site-packages\\sklearn\\neural_network\\multilayer_perceptron.py:1316: DataConversionWarning: A column-vector y was passed when a 1d array was expected. Please change the shape of y to (n_samples, ), for example using ravel().\n",
      "  y = column_or_1d(y, warn=True)\n"
     ]
    },
    {
     "data": {
      "text/plain": [
       "MLPRegressor(activation='relu', alpha=0.5, batch_size='auto', beta_1=0.9,\n",
       "       beta_2=0.999, early_stopping=False, epsilon=1e-08,\n",
       "       hidden_layer_sizes=(100,), learning_rate='constant',\n",
       "       learning_rate_init=0.001, max_iter=200, momentum=0.9,\n",
       "       n_iter_no_change=10, nesterovs_momentum=True, power_t=0.5,\n",
       "       random_state=None, shuffle=True, solver='adam', tol=0.0001,\n",
       "       validation_fraction=0.1, verbose=False, warm_start=False)"
      ]
     },
     "execution_count": 39,
     "metadata": {},
     "output_type": "execute_result"
    }
   ],
   "source": [
    "estimator2.fit(train_X, train_y)"
   ]
  },
  {
   "cell_type": "code",
   "execution_count": 40,
   "metadata": {},
   "outputs": [
    {
     "data": {
      "text/plain": [
       "Text(0.5, 0, 'Iteration')"
      ]
     },
     "execution_count": 40,
     "metadata": {},
     "output_type": "execute_result"
    },
    {
     "data": {
      "image/png": "[encoded data removed]",
      "text/plain": [
       "<Figure size 432x288 with 1 Axes>"
      ]
     },
     "metadata": {
      "needs_background": "light"
     },
     "output_type": "display_data"
    }
   ],
   "source": [
    "# plot loss curve\n",
    "pd.DataFrame(estimator2.loss_curve_).plot()\n",
    "plt.ylabel('Loss')\n",
    "plt.xlabel('Iteration')\n",
    "# plt.xlim([0, 200])"
   ]
  },
  {
   "cell_type": "code",
   "execution_count": 35,
   "metadata": {},
   "outputs": [
    {
     "data": {
      "image/png": "[encoded data removed]",
      "text/plain": [
       "<Figure size 432x288 with 1 Axes>"
      ]
     },
     "metadata": {
      "needs_background": "light"
     },
     "output_type": "display_data"
    }
   ],
   "source": [
    "# predict on test data\n",
    "pred_y2=estimator2.predict(test_X)\n",
    "\n",
    "pred_y2_raw=scaler.inverse_transform(pred_y2.reshape(-1,1))\n",
    "pred_y2_raw=pd.Series(pred_y2_raw.reshape(pred_y2.shape[0]))\n",
    "\n",
    "# compare predicted price with actual price\n",
    "plt.scatter(test_y_raw,pred_y2_raw)\n",
    "plt.xlabel('Actual Price')\n",
    "plt.ylabel('Predicted Price')\n",
    "plt.show()"
   ]
  },
  {
   "cell_type": "code",
   "execution_count": 36,
   "metadata": {},
   "outputs": [
    {
     "data": {
      "text/plain": [
       "805.929621993027"
      ]
     },
     "execution_count": 36,
     "metadata": {},
     "output_type": "execute_result"
    }
   ],
   "source": [
    "metrics.mean_absolute_error(test_y_raw,pred_y2_raw)"
   ]
  },
  {
   "cell_type": "code",
   "execution_count": 37,
   "metadata": {},
   "outputs": [
    {
     "data": {
      "text/plain": [
       "1340007.6760387088"
      ]
     },
     "execution_count": 37,
     "metadata": {},
     "output_type": "execute_result"
    }
   ],
   "source": [
    "metrics.mean_squared_error(test_y_raw,pred_y2_raw)"
   ]
  },
  {
   "cell_type": "code",
   "execution_count": 38,
   "metadata": {},
   "outputs": [
    {
     "data": {
      "text/plain": [
       "0.9031880673052867"
      ]
     },
     "execution_count": 38,
     "metadata": {},
     "output_type": "execute_result"
    }
   ],
   "source": [
    "metrics.r2_score(test_y_raw, pred_y2_raw)"
   ]
  },
  {
   "cell_type": "markdown",
   "metadata": {},
   "source": [
    "# 3. Compare model performance"
   ]
  },
  {
   "cell_type": "code",
   "execution_count": 50,
   "metadata": {},
   "outputs": [
    {
     "data": {
      "text/html": [
       "<div>\n",
       "<style scoped>\n",
       "    .dataframe tbody tr th:only-of-type {\n",
       "        vertical-align: middle;\n",
       "    }\n",
       "\n",
       "    .dataframe tbody tr th {\n",
       "        vertical-align: top;\n",
       "    }\n",
       "\n",
       "    .dataframe thead th {\n",
       "        text-align: right;\n",
       "    }\n",
       "</style>\n",
       "<table border=\"1\" class=\"dataframe\">\n",
       "  <thead>\n",
       "    <tr style=\"text-align: right;\">\n",
       "      <th></th>\n",
       "      <th>Hidden Layers</th>\n",
       "      <th>Regularization constant</th>\n",
       "      <th>MAE</th>\n",
       "      <th>MSE</th>\n",
       "      <th>R2</th>\n",
       "    </tr>\n",
       "  </thead>\n",
       "  <tbody>\n",
       "    <tr>\n",
       "      <th>Model 1</th>\n",
       "      <td>100</td>\n",
       "      <td>0.001</td>\n",
       "      <td>947.200410</td>\n",
       "      <td>1.851977e+06</td>\n",
       "      <td>0.866200</td>\n",
       "    </tr>\n",
       "    <tr>\n",
       "      <th>Model 2</th>\n",
       "      <td>100</td>\n",
       "      <td>0.5</td>\n",
       "      <td>805.929622</td>\n",
       "      <td>1.340008e+06</td>\n",
       "      <td>0.903188</td>\n",
       "    </tr>\n",
       "  </tbody>\n",
       "</table>\n",
       "</div>"
      ],
      "text/plain": [
       "        Hidden Layers Regularization constant         MAE           MSE  \\\n",
       "Model 1           100                   0.001  947.200410  1.851977e+06   \n",
       "Model 2           100                     0.5  805.929622  1.340008e+06   \n",
       "\n",
       "               R2  \n",
       "Model 1  0.866200  \n",
       "Model 2  0.903188  "
      ]
     },
     "execution_count": 50,
     "metadata": {},
     "output_type": "execute_result"
    }
   ],
   "source": [
    "hid = ['100','100']\n",
    "\n",
    "alpha= ['0.001','0.5']\n",
    "\n",
    "mae = [metrics.mean_absolute_error(test_y_raw, pred_y1_raw),\n",
    "       metrics.mean_absolute_error(test_y_raw, pred_y2_raw)]\n",
    "\n",
    "mse = [metrics.regression.mean_squared_error(test_y_raw, pred_y1_raw),\n",
    "       metrics.regression.mean_squared_error(test_y_raw, pred_y2_raw)]\n",
    "\n",
    "r2 = [metrics.r2_score(test_y_raw, pred_y1_raw),\n",
    "      metrics.r2_score(test_y_raw, pred_y2_raw)]\n",
    "\n",
    "# create a dataframe\n",
    "pd.DataFrame({'Hidden Layers':hid,\n",
    "              'Regularization constant':alpha,\n",
    "              'MAE':mae,\n",
    "              'MSE':mse,\n",
    "              'R2':r2\n",
    "              },\n",
    "            index = ['Model 1','Model 2'])"
   ]
  },
  {
   "cell_type": "markdown",
   "metadata": {},
   "source": [
    "- From above comparison, we can see that model 2 has a better performance than model 1.\n",
    "- Model 2 has smaller MAE and MSE, while has large R2."
   ]
  },
  {
   "cell_type": "code",
   "execution_count": null,
   "metadata": {},
   "outputs": [],
   "source": []
  }
 ],
 "metadata": {
  "kernelspec": {
   "display_name": "Python 3",
   "language": "python",
   "name": "python3"
  },
  "language_info": {
   "codemirror_mode": {
    "name": "ipython",
    "version": 3
   },
   "file_extension": ".py",
   "mimetype": "text/x-python",
   "name": "python",
   "nbconvert_exporter": "python",
   "pygments_lexer": "ipython3",
   "version": "3.8.5"
  },
  "toc": {
   "base_numbering": 1,
   "nav_menu": {},
   "number_sections": true,
   "sideBar": true,
   "skip_h1_title": false,
   "title_cell": "Table of Contents",
   "title_sidebar": "Contents",
   "toc_cell": false,
   "toc_position": {},
   "toc_section_display": true,
   "toc_window_display": false
  },
  "varInspector": {
   "cols": {
    "lenName": 16,
    "lenType": 16,
    "lenVar": 40
   },
   "kernels_config": {
    "python": {
     "delete_cmd_postfix": "",
     "delete_cmd_prefix": "del ",
     "library": "var_list.py",
     "varRefreshCmd": "print(var_dic_list())"
    },
    "r": {
     "delete_cmd_postfix": ") ",
     "delete_cmd_prefix": "rm(",
     "library": "var_list.r",
     "varRefreshCmd": "cat(var_dic_list()) "
    }
   },
   "types_to_exclude": [
    "module",
    "function",
    "builtin_function_or_method",
    "instance",
    "_Feature"
   ],
   "window_display": false
  }
 },
 "nbformat": 4,
 "nbformat_minor": 2
}
