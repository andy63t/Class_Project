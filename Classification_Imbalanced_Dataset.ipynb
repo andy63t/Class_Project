{
 "cells": [
  {
   "cell_type": "markdown",
   "metadata": {},
   "source": [
    "# 1. Data"
   ]
  },
  {
   "cell_type": "markdown",
   "metadata": {},
   "source": [
    "## 1.1 Import Data"
   ]
  },
  {
   "cell_type": "code",
   "execution_count": 112,
   "metadata": {},
   "outputs": [],
   "source": [
    "import pandas as pd\n",
    "import os\n",
    "import matplotlib.pyplot as plt\n",
    "%matplotlib inline"
   ]
  },
  {
   "cell_type": "code",
   "execution_count": 4,
   "metadata": {},
   "outputs": [
    {
     "data": {
      "text/plain": [
       "['.ipynb_checkpoints',\n",
       " 'Data_Competition_2.ipynb',\n",
       " 'IST 5520 Data Competition II.pdf',\n",
       " 'test.csv',\n",
       " 'train.csv',\n",
       " 'Yao_data competition 2.ipynb']"
      ]
     },
     "execution_count": 4,
     "metadata": {},
     "output_type": "execute_result"
    }
   ],
   "source": [
    "os.listdir()"
   ]
  },
  {
   "cell_type": "code",
   "execution_count": 5,
   "metadata": {},
   "outputs": [],
   "source": [
    "train_dat = pd.read_csv('train.csv')"
   ]
  },
  {
   "cell_type": "code",
   "execution_count": 6,
   "metadata": {
    "scrolled": true
   },
   "outputs": [
    {
     "data": {
      "text/html": [
       "<div>\n",
       "<style scoped>\n",
       "    .dataframe tbody tr th:only-of-type {\n",
       "        vertical-align: middle;\n",
       "    }\n",
       "\n",
       "    .dataframe tbody tr th {\n",
       "        vertical-align: top;\n",
       "    }\n",
       "\n",
       "    .dataframe thead th {\n",
       "        text-align: right;\n",
       "    }\n",
       "</style>\n",
       "<table border=\"1\" class=\"dataframe\">\n",
       "  <thead>\n",
       "    <tr style=\"text-align: right;\">\n",
       "      <th></th>\n",
       "      <th>age</th>\n",
       "      <th>job</th>\n",
       "      <th>marital</th>\n",
       "      <th>education</th>\n",
       "      <th>default</th>\n",
       "      <th>balance</th>\n",
       "      <th>housing</th>\n",
       "      <th>loan</th>\n",
       "      <th>contact</th>\n",
       "      <th>day</th>\n",
       "      <th>month</th>\n",
       "      <th>duration</th>\n",
       "      <th>campaign</th>\n",
       "      <th>pdays</th>\n",
       "      <th>previous</th>\n",
       "      <th>poutcome</th>\n",
       "      <th>y</th>\n",
       "    </tr>\n",
       "  </thead>\n",
       "  <tbody>\n",
       "    <tr>\n",
       "      <th>0</th>\n",
       "      <td>58</td>\n",
       "      <td>management</td>\n",
       "      <td>married</td>\n",
       "      <td>tertiary</td>\n",
       "      <td>no</td>\n",
       "      <td>2143</td>\n",
       "      <td>yes</td>\n",
       "      <td>no</td>\n",
       "      <td>unknown</td>\n",
       "      <td>5</td>\n",
       "      <td>may</td>\n",
       "      <td>261</td>\n",
       "      <td>1</td>\n",
       "      <td>-1</td>\n",
       "      <td>0</td>\n",
       "      <td>unknown</td>\n",
       "      <td>0</td>\n",
       "    </tr>\n",
       "    <tr>\n",
       "      <th>1</th>\n",
       "      <td>44</td>\n",
       "      <td>technician</td>\n",
       "      <td>single</td>\n",
       "      <td>secondary</td>\n",
       "      <td>no</td>\n",
       "      <td>29</td>\n",
       "      <td>yes</td>\n",
       "      <td>no</td>\n",
       "      <td>unknown</td>\n",
       "      <td>5</td>\n",
       "      <td>may</td>\n",
       "      <td>151</td>\n",
       "      <td>1</td>\n",
       "      <td>-1</td>\n",
       "      <td>0</td>\n",
       "      <td>unknown</td>\n",
       "      <td>0</td>\n",
       "    </tr>\n",
       "    <tr>\n",
       "      <th>2</th>\n",
       "      <td>33</td>\n",
       "      <td>entrepreneur</td>\n",
       "      <td>married</td>\n",
       "      <td>secondary</td>\n",
       "      <td>no</td>\n",
       "      <td>2</td>\n",
       "      <td>yes</td>\n",
       "      <td>yes</td>\n",
       "      <td>unknown</td>\n",
       "      <td>5</td>\n",
       "      <td>may</td>\n",
       "      <td>76</td>\n",
       "      <td>1</td>\n",
       "      <td>-1</td>\n",
       "      <td>0</td>\n",
       "      <td>unknown</td>\n",
       "      <td>0</td>\n",
       "    </tr>\n",
       "    <tr>\n",
       "      <th>3</th>\n",
       "      <td>47</td>\n",
       "      <td>blue-collar</td>\n",
       "      <td>married</td>\n",
       "      <td>unknown</td>\n",
       "      <td>no</td>\n",
       "      <td>1506</td>\n",
       "      <td>yes</td>\n",
       "      <td>no</td>\n",
       "      <td>unknown</td>\n",
       "      <td>5</td>\n",
       "      <td>may</td>\n",
       "      <td>92</td>\n",
       "      <td>1</td>\n",
       "      <td>-1</td>\n",
       "      <td>0</td>\n",
       "      <td>unknown</td>\n",
       "      <td>0</td>\n",
       "    </tr>\n",
       "    <tr>\n",
       "      <th>4</th>\n",
       "      <td>35</td>\n",
       "      <td>management</td>\n",
       "      <td>married</td>\n",
       "      <td>tertiary</td>\n",
       "      <td>no</td>\n",
       "      <td>231</td>\n",
       "      <td>yes</td>\n",
       "      <td>no</td>\n",
       "      <td>unknown</td>\n",
       "      <td>5</td>\n",
       "      <td>may</td>\n",
       "      <td>139</td>\n",
       "      <td>1</td>\n",
       "      <td>-1</td>\n",
       "      <td>0</td>\n",
       "      <td>unknown</td>\n",
       "      <td>0</td>\n",
       "    </tr>\n",
       "  </tbody>\n",
       "</table>\n",
       "</div>"
      ],
      "text/plain": [
       "   age           job  marital  education default  balance housing loan  \\\n",
       "0   58    management  married   tertiary      no     2143     yes   no   \n",
       "1   44    technician   single  secondary      no       29     yes   no   \n",
       "2   33  entrepreneur  married  secondary      no        2     yes  yes   \n",
       "3   47   blue-collar  married    unknown      no     1506     yes   no   \n",
       "4   35    management  married   tertiary      no      231     yes   no   \n",
       "\n",
       "   contact  day month  duration  campaign  pdays  previous poutcome  y  \n",
       "0  unknown    5   may       261         1     -1         0  unknown  0  \n",
       "1  unknown    5   may       151         1     -1         0  unknown  0  \n",
       "2  unknown    5   may        76         1     -1         0  unknown  0  \n",
       "3  unknown    5   may        92         1     -1         0  unknown  0  \n",
       "4  unknown    5   may       139         1     -1         0  unknown  0  "
      ]
     },
     "execution_count": 6,
     "metadata": {},
     "output_type": "execute_result"
    }
   ],
   "source": [
    "train_dat.head()"
   ]
  },
  {
   "cell_type": "code",
   "execution_count": 7,
   "metadata": {},
   "outputs": [
    {
     "name": "stdout",
     "output_type": "stream",
     "text": [
      "<class 'pandas.core.frame.DataFrame'>\n",
      "RangeIndex: 22606 entries, 0 to 22605\n",
      "Data columns (total 17 columns):\n",
      "age          22606 non-null int64\n",
      "job          22606 non-null object\n",
      "marital      22606 non-null object\n",
      "education    22606 non-null object\n",
      "default      22606 non-null object\n",
      "balance      22606 non-null int64\n",
      "housing      22606 non-null object\n",
      "loan         22606 non-null object\n",
      "contact      22606 non-null object\n",
      "day          22606 non-null int64\n",
      "month        22606 non-null object\n",
      "duration     22606 non-null int64\n",
      "campaign     22606 non-null int64\n",
      "pdays        22606 non-null int64\n",
      "previous     22606 non-null int64\n",
      "poutcome     22606 non-null object\n",
      "y            22606 non-null int64\n",
      "dtypes: int64(8), object(9)\n",
      "memory usage: 2.9+ MB\n"
     ]
    }
   ],
   "source": [
    "train_dat.info()"
   ]
  },
  {
   "cell_type": "code",
   "execution_count": 8,
   "metadata": {},
   "outputs": [
    {
     "data": {
      "text/html": [
       "<div>\n",
       "<style scoped>\n",
       "    .dataframe tbody tr th:only-of-type {\n",
       "        vertical-align: middle;\n",
       "    }\n",
       "\n",
       "    .dataframe tbody tr th {\n",
       "        vertical-align: top;\n",
       "    }\n",
       "\n",
       "    .dataframe thead th {\n",
       "        text-align: right;\n",
       "    }\n",
       "</style>\n",
       "<table border=\"1\" class=\"dataframe\">\n",
       "  <thead>\n",
       "    <tr style=\"text-align: right;\">\n",
       "      <th></th>\n",
       "      <th>age</th>\n",
       "      <th>balance</th>\n",
       "      <th>day</th>\n",
       "      <th>duration</th>\n",
       "      <th>campaign</th>\n",
       "      <th>pdays</th>\n",
       "      <th>previous</th>\n",
       "      <th>y</th>\n",
       "    </tr>\n",
       "  </thead>\n",
       "  <tbody>\n",
       "    <tr>\n",
       "      <th>count</th>\n",
       "      <td>22606.000000</td>\n",
       "      <td>22606.000000</td>\n",
       "      <td>22606.000000</td>\n",
       "      <td>22606.000000</td>\n",
       "      <td>22606.000000</td>\n",
       "      <td>22606.000000</td>\n",
       "      <td>22606.000000</td>\n",
       "      <td>22606.000000</td>\n",
       "    </tr>\n",
       "    <tr>\n",
       "      <th>mean</th>\n",
       "      <td>40.906839</td>\n",
       "      <td>1360.106874</td>\n",
       "      <td>15.826285</td>\n",
       "      <td>256.453287</td>\n",
       "      <td>2.754180</td>\n",
       "      <td>39.914846</td>\n",
       "      <td>0.567947</td>\n",
       "      <td>0.117004</td>\n",
       "    </tr>\n",
       "    <tr>\n",
       "      <th>std</th>\n",
       "      <td>10.640958</td>\n",
       "      <td>3068.060471</td>\n",
       "      <td>8.336478</td>\n",
       "      <td>253.361367</td>\n",
       "      <td>3.089615</td>\n",
       "      <td>100.131590</td>\n",
       "      <td>1.865971</td>\n",
       "      <td>0.321433</td>\n",
       "    </tr>\n",
       "    <tr>\n",
       "      <th>min</th>\n",
       "      <td>18.000000</td>\n",
       "      <td>-3372.000000</td>\n",
       "      <td>1.000000</td>\n",
       "      <td>0.000000</td>\n",
       "      <td>1.000000</td>\n",
       "      <td>-1.000000</td>\n",
       "      <td>0.000000</td>\n",
       "      <td>0.000000</td>\n",
       "    </tr>\n",
       "    <tr>\n",
       "      <th>25%</th>\n",
       "      <td>33.000000</td>\n",
       "      <td>68.000000</td>\n",
       "      <td>8.000000</td>\n",
       "      <td>102.000000</td>\n",
       "      <td>1.000000</td>\n",
       "      <td>-1.000000</td>\n",
       "      <td>0.000000</td>\n",
       "      <td>0.000000</td>\n",
       "    </tr>\n",
       "    <tr>\n",
       "      <th>50%</th>\n",
       "      <td>39.000000</td>\n",
       "      <td>440.500000</td>\n",
       "      <td>16.000000</td>\n",
       "      <td>179.500000</td>\n",
       "      <td>2.000000</td>\n",
       "      <td>-1.000000</td>\n",
       "      <td>0.000000</td>\n",
       "      <td>0.000000</td>\n",
       "    </tr>\n",
       "    <tr>\n",
       "      <th>75%</th>\n",
       "      <td>48.000000</td>\n",
       "      <td>1422.750000</td>\n",
       "      <td>21.000000</td>\n",
       "      <td>318.000000</td>\n",
       "      <td>3.000000</td>\n",
       "      <td>-1.000000</td>\n",
       "      <td>0.000000</td>\n",
       "      <td>0.000000</td>\n",
       "    </tr>\n",
       "    <tr>\n",
       "      <th>max</th>\n",
       "      <td>95.000000</td>\n",
       "      <td>98417.000000</td>\n",
       "      <td>31.000000</td>\n",
       "      <td>3881.000000</td>\n",
       "      <td>55.000000</td>\n",
       "      <td>854.000000</td>\n",
       "      <td>40.000000</td>\n",
       "      <td>1.000000</td>\n",
       "    </tr>\n",
       "  </tbody>\n",
       "</table>\n",
       "</div>"
      ],
      "text/plain": [
       "                age       balance           day      duration      campaign  \\\n",
       "count  22606.000000  22606.000000  22606.000000  22606.000000  22606.000000   \n",
       "mean      40.906839   1360.106874     15.826285    256.453287      2.754180   \n",
       "std       10.640958   3068.060471      8.336478    253.361367      3.089615   \n",
       "min       18.000000  -3372.000000      1.000000      0.000000      1.000000   \n",
       "25%       33.000000     68.000000      8.000000    102.000000      1.000000   \n",
       "50%       39.000000    440.500000     16.000000    179.500000      2.000000   \n",
       "75%       48.000000   1422.750000     21.000000    318.000000      3.000000   \n",
       "max       95.000000  98417.000000     31.000000   3881.000000     55.000000   \n",
       "\n",
       "              pdays      previous             y  \n",
       "count  22606.000000  22606.000000  22606.000000  \n",
       "mean      39.914846      0.567947      0.117004  \n",
       "std      100.131590      1.865971      0.321433  \n",
       "min       -1.000000      0.000000      0.000000  \n",
       "25%       -1.000000      0.000000      0.000000  \n",
       "50%       -1.000000      0.000000      0.000000  \n",
       "75%       -1.000000      0.000000      0.000000  \n",
       "max      854.000000     40.000000      1.000000  "
      ]
     },
     "execution_count": 8,
     "metadata": {},
     "output_type": "execute_result"
    }
   ],
   "source": [
    "train_dat.describe()"
   ]
  },
  {
   "cell_type": "code",
   "execution_count": 9,
   "metadata": {},
   "outputs": [
    {
     "data": {
      "text/plain": [
       "0    19961\n",
       "1     2645\n",
       "Name: y, dtype: int64"
      ]
     },
     "execution_count": 9,
     "metadata": {},
     "output_type": "execute_result"
    }
   ],
   "source": [
    "# Count of classes\n",
    "train_dat['y'].value_counts()"
   ]
  },
  {
   "cell_type": "markdown",
   "metadata": {},
   "source": [
    "This is an imbalanced dataset"
   ]
  },
  {
   "cell_type": "markdown",
   "metadata": {},
   "source": [
    "## 1.2 Preprocess Data"
   ]
  },
  {
   "cell_type": "markdown",
   "metadata": {},
   "source": [
    "The categorical/string columns cannot be directly used as input for most algorithms. Let's use one-hot encoding method for these categorical variables."
   ]
  },
  {
   "cell_type": "code",
   "execution_count": 10,
   "metadata": {
    "scrolled": true
   },
   "outputs": [
    {
     "name": "stdout",
     "output_type": "stream",
     "text": [
      "<class 'pandas.core.frame.DataFrame'>\n",
      "RangeIndex: 22606 entries, 0 to 22605\n",
      "Data columns (total 17 columns):\n",
      "age          22606 non-null int64\n",
      "job          22606 non-null object\n",
      "marital      22606 non-null object\n",
      "education    22606 non-null object\n",
      "default      22606 non-null object\n",
      "balance      22606 non-null int64\n",
      "housing      22606 non-null object\n",
      "loan         22606 non-null object\n",
      "contact      22606 non-null object\n",
      "day          22606 non-null int64\n",
      "month        22606 non-null object\n",
      "duration     22606 non-null int64\n",
      "campaign     22606 non-null int64\n",
      "pdays        22606 non-null int64\n",
      "previous     22606 non-null int64\n",
      "poutcome     22606 non-null object\n",
      "y            22606 non-null int64\n",
      "dtypes: int64(8), object(9)\n",
      "memory usage: 2.9+ MB\n"
     ]
    }
   ],
   "source": [
    "#check data types\n",
    "train_dat.info()"
   ]
  },
  {
   "cell_type": "code",
   "execution_count": 11,
   "metadata": {},
   "outputs": [],
   "source": [
    "#get dummy variables\n",
    "job = pd.get_dummies(train_dat['job'], prefix = 'job')\n",
    "marital = pd.get_dummies(train_dat['marital'], prefix = 'marital')\n",
    "education = pd.get_dummies(train_dat['education'], prefix = 'education')\n",
    "contact = pd.get_dummies(train_dat['contact'], prefix = 'contact')\n",
    "month = pd.get_dummies(train_dat['month'], prefix = 'month')\n",
    "poutcome = pd.get_dummies(train_dat['poutcome'], prefix = 'poutcome')"
   ]
  },
  {
   "cell_type": "code",
   "execution_count": 12,
   "metadata": {},
   "outputs": [
    {
     "data": {
      "text/plain": [
       "array([ 0,  3,  1,  4,  2,  5, 10,  9, 21,  6,  7, 14, 11,  8, 37, 15, 25,\n",
       "       13, 17, 29, 23, 12, 16, 24, 18, 27, 22, 19, 28, 32, 26, 40, 30, 35,\n",
       "       20], dtype=int64)"
      ]
     },
     "execution_count": 12,
     "metadata": {},
     "output_type": "execute_result"
    }
   ],
   "source": [
    "train_dat.previous.unique()"
   ]
  },
  {
   "cell_type": "code",
   "execution_count": 13,
   "metadata": {},
   "outputs": [
    {
     "data": {
      "text/plain": [
       "Index(['age', 'job', 'marital', 'education', 'default', 'balance', 'housing',\n",
       "       'loan', 'contact', 'day', 'month', 'duration', 'campaign', 'pdays',\n",
       "       'previous', 'poutcome', 'y'],\n",
       "      dtype='object')"
      ]
     },
     "execution_count": 13,
     "metadata": {},
     "output_type": "execute_result"
    }
   ],
   "source": [
    "train_dat.columns"
   ]
  },
  {
   "cell_type": "code",
   "execution_count": 14,
   "metadata": {},
   "outputs": [],
   "source": [
    "#change string variables\n",
    "default = train_dat.default.replace(['no','yes'],[0,1]) # 1 as yes, 0 as no\n",
    "housing = train_dat.housing.replace(['no','yes'],[0,1]) # 1 as yes, 0 as no\n",
    "loan = train_dat.loan.replace(['no','yes'],[0,1]) # 1 as yes, 0 as no\n"
   ]
  },
  {
   "cell_type": "code",
   "execution_count": 15,
   "metadata": {},
   "outputs": [
    {
     "name": "stdout",
     "output_type": "stream",
     "text": [
      "<class 'pandas.core.frame.DataFrame'>\n",
      "RangeIndex: 22606 entries, 0 to 22605\n",
      "Data columns (total 48 columns):\n",
      "job_admin.             22606 non-null uint8\n",
      "job_blue-collar        22606 non-null uint8\n",
      "job_entrepreneur       22606 non-null uint8\n",
      "job_housemaid          22606 non-null uint8\n",
      "job_management         22606 non-null uint8\n",
      "job_retired            22606 non-null uint8\n",
      "job_self-employed      22606 non-null uint8\n",
      "job_services           22606 non-null uint8\n",
      "job_student            22606 non-null uint8\n",
      "job_technician         22606 non-null uint8\n",
      "job_unemployed         22606 non-null uint8\n",
      "job_unknown            22606 non-null uint8\n",
      "marital_divorced       22606 non-null uint8\n",
      "marital_married        22606 non-null uint8\n",
      "marital_single         22606 non-null uint8\n",
      "education_primary      22606 non-null uint8\n",
      "education_secondary    22606 non-null uint8\n",
      "education_tertiary     22606 non-null uint8\n",
      "education_unknown      22606 non-null uint8\n",
      "contact_cellular       22606 non-null uint8\n",
      "contact_telephone      22606 non-null uint8\n",
      "contact_unknown        22606 non-null uint8\n",
      "month_apr              22606 non-null uint8\n",
      "month_aug              22606 non-null uint8\n",
      "month_dec              22606 non-null uint8\n",
      "month_feb              22606 non-null uint8\n",
      "month_jan              22606 non-null uint8\n",
      "month_jul              22606 non-null uint8\n",
      "month_jun              22606 non-null uint8\n",
      "month_mar              22606 non-null uint8\n",
      "month_may              22606 non-null uint8\n",
      "month_nov              22606 non-null uint8\n",
      "month_oct              22606 non-null uint8\n",
      "month_sep              22606 non-null uint8\n",
      "poutcome_failure       22606 non-null uint8\n",
      "poutcome_other         22606 non-null uint8\n",
      "poutcome_success       22606 non-null uint8\n",
      "poutcome_unknown       22606 non-null uint8\n",
      "default                22606 non-null int64\n",
      "housing                22606 non-null int64\n",
      "loan                   22606 non-null int64\n",
      "age                    22606 non-null int64\n",
      "balance                22606 non-null int64\n",
      "day                    22606 non-null int64\n",
      "duration               22606 non-null int64\n",
      "campaign               22606 non-null int64\n",
      "pdays                  22606 non-null int64\n",
      "previous               22606 non-null int64\n",
      "dtypes: int64(10), uint8(38)\n",
      "memory usage: 2.5 MB\n"
     ]
    }
   ],
   "source": [
    "# Concat all dummies, modified string variables, and continuous variables to create predictors X\n",
    "X = pd.concat([job,marital,education,contact,month,poutcome,\n",
    "               default,housing,loan,\n",
    "               train_dat[['age', 'balance', 'day', 'duration', 'campaign', 'pdays',\n",
    "               'previous']]\n",
    "              ],\n",
    "              axis=1)\n",
    "X.info()"
   ]
  },
  {
   "cell_type": "code",
   "execution_count": 16,
   "metadata": {
    "scrolled": true
   },
   "outputs": [
    {
     "data": {
      "text/html": [
       "<div>\n",
       "<style scoped>\n",
       "    .dataframe tbody tr th:only-of-type {\n",
       "        vertical-align: middle;\n",
       "    }\n",
       "\n",
       "    .dataframe tbody tr th {\n",
       "        vertical-align: top;\n",
       "    }\n",
       "\n",
       "    .dataframe thead th {\n",
       "        text-align: right;\n",
       "    }\n",
       "</style>\n",
       "<table border=\"1\" class=\"dataframe\">\n",
       "  <thead>\n",
       "    <tr style=\"text-align: right;\">\n",
       "      <th></th>\n",
       "      <th>count</th>\n",
       "      <th>mean</th>\n",
       "      <th>std</th>\n",
       "      <th>min</th>\n",
       "      <th>25%</th>\n",
       "      <th>50%</th>\n",
       "      <th>75%</th>\n",
       "      <th>max</th>\n",
       "    </tr>\n",
       "  </thead>\n",
       "  <tbody>\n",
       "    <tr>\n",
       "      <th>job_admin.</th>\n",
       "      <td>22606.0</td>\n",
       "      <td>0.115677</td>\n",
       "      <td>0.319845</td>\n",
       "      <td>0.0</td>\n",
       "      <td>0.0</td>\n",
       "      <td>0.0</td>\n",
       "      <td>0.00</td>\n",
       "      <td>1.0</td>\n",
       "    </tr>\n",
       "    <tr>\n",
       "      <th>job_blue-collar</th>\n",
       "      <td>22606.0</td>\n",
       "      <td>0.214633</td>\n",
       "      <td>0.410577</td>\n",
       "      <td>0.0</td>\n",
       "      <td>0.0</td>\n",
       "      <td>0.0</td>\n",
       "      <td>0.00</td>\n",
       "      <td>1.0</td>\n",
       "    </tr>\n",
       "    <tr>\n",
       "      <th>job_entrepreneur</th>\n",
       "      <td>22606.0</td>\n",
       "      <td>0.032956</td>\n",
       "      <td>0.178525</td>\n",
       "      <td>0.0</td>\n",
       "      <td>0.0</td>\n",
       "      <td>0.0</td>\n",
       "      <td>0.00</td>\n",
       "      <td>1.0</td>\n",
       "    </tr>\n",
       "    <tr>\n",
       "      <th>job_housemaid</th>\n",
       "      <td>22606.0</td>\n",
       "      <td>0.028576</td>\n",
       "      <td>0.166617</td>\n",
       "      <td>0.0</td>\n",
       "      <td>0.0</td>\n",
       "      <td>0.0</td>\n",
       "      <td>0.00</td>\n",
       "      <td>1.0</td>\n",
       "    </tr>\n",
       "    <tr>\n",
       "      <th>job_management</th>\n",
       "      <td>22606.0</td>\n",
       "      <td>0.211006</td>\n",
       "      <td>0.408032</td>\n",
       "      <td>0.0</td>\n",
       "      <td>0.0</td>\n",
       "      <td>0.0</td>\n",
       "      <td>0.00</td>\n",
       "      <td>1.0</td>\n",
       "    </tr>\n",
       "    <tr>\n",
       "      <th>job_retired</th>\n",
       "      <td>22606.0</td>\n",
       "      <td>0.049279</td>\n",
       "      <td>0.216455</td>\n",
       "      <td>0.0</td>\n",
       "      <td>0.0</td>\n",
       "      <td>0.0</td>\n",
       "      <td>0.00</td>\n",
       "      <td>1.0</td>\n",
       "    </tr>\n",
       "    <tr>\n",
       "      <th>job_self-employed</th>\n",
       "      <td>22606.0</td>\n",
       "      <td>0.034681</td>\n",
       "      <td>0.182975</td>\n",
       "      <td>0.0</td>\n",
       "      <td>0.0</td>\n",
       "      <td>0.0</td>\n",
       "      <td>0.00</td>\n",
       "      <td>1.0</td>\n",
       "    </tr>\n",
       "    <tr>\n",
       "      <th>job_services</th>\n",
       "      <td>22606.0</td>\n",
       "      <td>0.091480</td>\n",
       "      <td>0.288297</td>\n",
       "      <td>0.0</td>\n",
       "      <td>0.0</td>\n",
       "      <td>0.0</td>\n",
       "      <td>0.00</td>\n",
       "      <td>1.0</td>\n",
       "    </tr>\n",
       "    <tr>\n",
       "      <th>job_student</th>\n",
       "      <td>22606.0</td>\n",
       "      <td>0.020747</td>\n",
       "      <td>0.142538</td>\n",
       "      <td>0.0</td>\n",
       "      <td>0.0</td>\n",
       "      <td>0.0</td>\n",
       "      <td>0.00</td>\n",
       "      <td>1.0</td>\n",
       "    </tr>\n",
       "    <tr>\n",
       "      <th>job_technician</th>\n",
       "      <td>22606.0</td>\n",
       "      <td>0.167345</td>\n",
       "      <td>0.373292</td>\n",
       "      <td>0.0</td>\n",
       "      <td>0.0</td>\n",
       "      <td>0.0</td>\n",
       "      <td>0.00</td>\n",
       "      <td>1.0</td>\n",
       "    </tr>\n",
       "    <tr>\n",
       "      <th>job_unemployed</th>\n",
       "      <td>22606.0</td>\n",
       "      <td>0.027117</td>\n",
       "      <td>0.162427</td>\n",
       "      <td>0.0</td>\n",
       "      <td>0.0</td>\n",
       "      <td>0.0</td>\n",
       "      <td>0.00</td>\n",
       "      <td>1.0</td>\n",
       "    </tr>\n",
       "    <tr>\n",
       "      <th>job_unknown</th>\n",
       "      <td>22606.0</td>\n",
       "      <td>0.006503</td>\n",
       "      <td>0.080378</td>\n",
       "      <td>0.0</td>\n",
       "      <td>0.0</td>\n",
       "      <td>0.0</td>\n",
       "      <td>0.00</td>\n",
       "      <td>1.0</td>\n",
       "    </tr>\n",
       "    <tr>\n",
       "      <th>marital_divorced</th>\n",
       "      <td>22606.0</td>\n",
       "      <td>0.114350</td>\n",
       "      <td>0.318243</td>\n",
       "      <td>0.0</td>\n",
       "      <td>0.0</td>\n",
       "      <td>0.0</td>\n",
       "      <td>0.00</td>\n",
       "      <td>1.0</td>\n",
       "    </tr>\n",
       "    <tr>\n",
       "      <th>marital_married</th>\n",
       "      <td>22606.0</td>\n",
       "      <td>0.601345</td>\n",
       "      <td>0.489632</td>\n",
       "      <td>0.0</td>\n",
       "      <td>0.0</td>\n",
       "      <td>1.0</td>\n",
       "      <td>1.00</td>\n",
       "      <td>1.0</td>\n",
       "    </tr>\n",
       "    <tr>\n",
       "      <th>marital_single</th>\n",
       "      <td>22606.0</td>\n",
       "      <td>0.284305</td>\n",
       "      <td>0.451093</td>\n",
       "      <td>0.0</td>\n",
       "      <td>0.0</td>\n",
       "      <td>0.0</td>\n",
       "      <td>1.00</td>\n",
       "      <td>1.0</td>\n",
       "    </tr>\n",
       "    <tr>\n",
       "      <th>education_primary</th>\n",
       "      <td>22606.0</td>\n",
       "      <td>0.148943</td>\n",
       "      <td>0.356040</td>\n",
       "      <td>0.0</td>\n",
       "      <td>0.0</td>\n",
       "      <td>0.0</td>\n",
       "      <td>0.00</td>\n",
       "      <td>1.0</td>\n",
       "    </tr>\n",
       "    <tr>\n",
       "      <th>education_secondary</th>\n",
       "      <td>22606.0</td>\n",
       "      <td>0.513138</td>\n",
       "      <td>0.499838</td>\n",
       "      <td>0.0</td>\n",
       "      <td>0.0</td>\n",
       "      <td>1.0</td>\n",
       "      <td>1.00</td>\n",
       "      <td>1.0</td>\n",
       "    </tr>\n",
       "    <tr>\n",
       "      <th>education_tertiary</th>\n",
       "      <td>22606.0</td>\n",
       "      <td>0.296028</td>\n",
       "      <td>0.456513</td>\n",
       "      <td>0.0</td>\n",
       "      <td>0.0</td>\n",
       "      <td>0.0</td>\n",
       "      <td>1.00</td>\n",
       "      <td>1.0</td>\n",
       "    </tr>\n",
       "    <tr>\n",
       "      <th>education_unknown</th>\n",
       "      <td>22606.0</td>\n",
       "      <td>0.041892</td>\n",
       "      <td>0.200346</td>\n",
       "      <td>0.0</td>\n",
       "      <td>0.0</td>\n",
       "      <td>0.0</td>\n",
       "      <td>0.00</td>\n",
       "      <td>1.0</td>\n",
       "    </tr>\n",
       "    <tr>\n",
       "      <th>contact_cellular</th>\n",
       "      <td>22606.0</td>\n",
       "      <td>0.646200</td>\n",
       "      <td>0.478159</td>\n",
       "      <td>0.0</td>\n",
       "      <td>0.0</td>\n",
       "      <td>1.0</td>\n",
       "      <td>1.00</td>\n",
       "      <td>1.0</td>\n",
       "    </tr>\n",
       "    <tr>\n",
       "      <th>contact_telephone</th>\n",
       "      <td>22606.0</td>\n",
       "      <td>0.065115</td>\n",
       "      <td>0.246735</td>\n",
       "      <td>0.0</td>\n",
       "      <td>0.0</td>\n",
       "      <td>0.0</td>\n",
       "      <td>0.00</td>\n",
       "      <td>1.0</td>\n",
       "    </tr>\n",
       "    <tr>\n",
       "      <th>contact_unknown</th>\n",
       "      <td>22606.0</td>\n",
       "      <td>0.288684</td>\n",
       "      <td>0.453161</td>\n",
       "      <td>0.0</td>\n",
       "      <td>0.0</td>\n",
       "      <td>0.0</td>\n",
       "      <td>1.00</td>\n",
       "      <td>1.0</td>\n",
       "    </tr>\n",
       "    <tr>\n",
       "      <th>month_apr</th>\n",
       "      <td>22606.0</td>\n",
       "      <td>0.065691</td>\n",
       "      <td>0.247746</td>\n",
       "      <td>0.0</td>\n",
       "      <td>0.0</td>\n",
       "      <td>0.0</td>\n",
       "      <td>0.00</td>\n",
       "      <td>1.0</td>\n",
       "    </tr>\n",
       "    <tr>\n",
       "      <th>month_aug</th>\n",
       "      <td>22606.0</td>\n",
       "      <td>0.138592</td>\n",
       "      <td>0.345527</td>\n",
       "      <td>0.0</td>\n",
       "      <td>0.0</td>\n",
       "      <td>0.0</td>\n",
       "      <td>0.00</td>\n",
       "      <td>1.0</td>\n",
       "    </tr>\n",
       "    <tr>\n",
       "      <th>month_dec</th>\n",
       "      <td>22606.0</td>\n",
       "      <td>0.004999</td>\n",
       "      <td>0.070526</td>\n",
       "      <td>0.0</td>\n",
       "      <td>0.0</td>\n",
       "      <td>0.0</td>\n",
       "      <td>0.00</td>\n",
       "      <td>1.0</td>\n",
       "    </tr>\n",
       "    <tr>\n",
       "      <th>month_feb</th>\n",
       "      <td>22606.0</td>\n",
       "      <td>0.057861</td>\n",
       "      <td>0.233485</td>\n",
       "      <td>0.0</td>\n",
       "      <td>0.0</td>\n",
       "      <td>0.0</td>\n",
       "      <td>0.00</td>\n",
       "      <td>1.0</td>\n",
       "    </tr>\n",
       "    <tr>\n",
       "      <th>month_jan</th>\n",
       "      <td>22606.0</td>\n",
       "      <td>0.031054</td>\n",
       "      <td>0.173467</td>\n",
       "      <td>0.0</td>\n",
       "      <td>0.0</td>\n",
       "      <td>0.0</td>\n",
       "      <td>0.00</td>\n",
       "      <td>1.0</td>\n",
       "    </tr>\n",
       "    <tr>\n",
       "      <th>month_jul</th>\n",
       "      <td>22606.0</td>\n",
       "      <td>0.151907</td>\n",
       "      <td>0.358938</td>\n",
       "      <td>0.0</td>\n",
       "      <td>0.0</td>\n",
       "      <td>0.0</td>\n",
       "      <td>0.00</td>\n",
       "      <td>1.0</td>\n",
       "    </tr>\n",
       "    <tr>\n",
       "      <th>month_jun</th>\n",
       "      <td>22606.0</td>\n",
       "      <td>0.117978</td>\n",
       "      <td>0.322589</td>\n",
       "      <td>0.0</td>\n",
       "      <td>0.0</td>\n",
       "      <td>0.0</td>\n",
       "      <td>0.00</td>\n",
       "      <td>1.0</td>\n",
       "    </tr>\n",
       "    <tr>\n",
       "      <th>month_mar</th>\n",
       "      <td>22606.0</td>\n",
       "      <td>0.010484</td>\n",
       "      <td>0.101855</td>\n",
       "      <td>0.0</td>\n",
       "      <td>0.0</td>\n",
       "      <td>0.0</td>\n",
       "      <td>0.00</td>\n",
       "      <td>1.0</td>\n",
       "    </tr>\n",
       "    <tr>\n",
       "      <th>month_may</th>\n",
       "      <td>22606.0</td>\n",
       "      <td>0.304123</td>\n",
       "      <td>0.460045</td>\n",
       "      <td>0.0</td>\n",
       "      <td>0.0</td>\n",
       "      <td>0.0</td>\n",
       "      <td>1.00</td>\n",
       "      <td>1.0</td>\n",
       "    </tr>\n",
       "    <tr>\n",
       "      <th>month_nov</th>\n",
       "      <td>22606.0</td>\n",
       "      <td>0.087720</td>\n",
       "      <td>0.282894</td>\n",
       "      <td>0.0</td>\n",
       "      <td>0.0</td>\n",
       "      <td>0.0</td>\n",
       "      <td>0.00</td>\n",
       "      <td>1.0</td>\n",
       "    </tr>\n",
       "    <tr>\n",
       "      <th>month_oct</th>\n",
       "      <td>22606.0</td>\n",
       "      <td>0.016677</td>\n",
       "      <td>0.128061</td>\n",
       "      <td>0.0</td>\n",
       "      <td>0.0</td>\n",
       "      <td>0.0</td>\n",
       "      <td>0.00</td>\n",
       "      <td>1.0</td>\n",
       "    </tr>\n",
       "    <tr>\n",
       "      <th>month_sep</th>\n",
       "      <td>22606.0</td>\n",
       "      <td>0.012917</td>\n",
       "      <td>0.112919</td>\n",
       "      <td>0.0</td>\n",
       "      <td>0.0</td>\n",
       "      <td>0.0</td>\n",
       "      <td>0.00</td>\n",
       "      <td>1.0</td>\n",
       "    </tr>\n",
       "    <tr>\n",
       "      <th>poutcome_failure</th>\n",
       "      <td>22606.0</td>\n",
       "      <td>0.106255</td>\n",
       "      <td>0.308171</td>\n",
       "      <td>0.0</td>\n",
       "      <td>0.0</td>\n",
       "      <td>0.0</td>\n",
       "      <td>0.00</td>\n",
       "      <td>1.0</td>\n",
       "    </tr>\n",
       "    <tr>\n",
       "      <th>poutcome_other</th>\n",
       "      <td>22606.0</td>\n",
       "      <td>0.041228</td>\n",
       "      <td>0.198822</td>\n",
       "      <td>0.0</td>\n",
       "      <td>0.0</td>\n",
       "      <td>0.0</td>\n",
       "      <td>0.00</td>\n",
       "      <td>1.0</td>\n",
       "    </tr>\n",
       "    <tr>\n",
       "      <th>poutcome_success</th>\n",
       "      <td>22606.0</td>\n",
       "      <td>0.034150</td>\n",
       "      <td>0.181619</td>\n",
       "      <td>0.0</td>\n",
       "      <td>0.0</td>\n",
       "      <td>0.0</td>\n",
       "      <td>0.00</td>\n",
       "      <td>1.0</td>\n",
       "    </tr>\n",
       "    <tr>\n",
       "      <th>poutcome_unknown</th>\n",
       "      <td>22606.0</td>\n",
       "      <td>0.818367</td>\n",
       "      <td>0.385550</td>\n",
       "      <td>0.0</td>\n",
       "      <td>1.0</td>\n",
       "      <td>1.0</td>\n",
       "      <td>1.00</td>\n",
       "      <td>1.0</td>\n",
       "    </tr>\n",
       "    <tr>\n",
       "      <th>default</th>\n",
       "      <td>22606.0</td>\n",
       "      <td>0.017916</td>\n",
       "      <td>0.132648</td>\n",
       "      <td>0.0</td>\n",
       "      <td>0.0</td>\n",
       "      <td>0.0</td>\n",
       "      <td>0.00</td>\n",
       "      <td>1.0</td>\n",
       "    </tr>\n",
       "    <tr>\n",
       "      <th>housing</th>\n",
       "      <td>22606.0</td>\n",
       "      <td>0.555914</td>\n",
       "      <td>0.496875</td>\n",
       "      <td>0.0</td>\n",
       "      <td>0.0</td>\n",
       "      <td>1.0</td>\n",
       "      <td>1.00</td>\n",
       "      <td>1.0</td>\n",
       "    </tr>\n",
       "    <tr>\n",
       "      <th>loan</th>\n",
       "      <td>22606.0</td>\n",
       "      <td>0.160842</td>\n",
       "      <td>0.367394</td>\n",
       "      <td>0.0</td>\n",
       "      <td>0.0</td>\n",
       "      <td>0.0</td>\n",
       "      <td>0.00</td>\n",
       "      <td>1.0</td>\n",
       "    </tr>\n",
       "    <tr>\n",
       "      <th>age</th>\n",
       "      <td>22606.0</td>\n",
       "      <td>40.906839</td>\n",
       "      <td>10.640958</td>\n",
       "      <td>18.0</td>\n",
       "      <td>33.0</td>\n",
       "      <td>39.0</td>\n",
       "      <td>48.00</td>\n",
       "      <td>95.0</td>\n",
       "    </tr>\n",
       "    <tr>\n",
       "      <th>balance</th>\n",
       "      <td>22606.0</td>\n",
       "      <td>1360.106874</td>\n",
       "      <td>3068.060471</td>\n",
       "      <td>-3372.0</td>\n",
       "      <td>68.0</td>\n",
       "      <td>440.5</td>\n",
       "      <td>1422.75</td>\n",
       "      <td>98417.0</td>\n",
       "    </tr>\n",
       "    <tr>\n",
       "      <th>day</th>\n",
       "      <td>22606.0</td>\n",
       "      <td>15.826285</td>\n",
       "      <td>8.336478</td>\n",
       "      <td>1.0</td>\n",
       "      <td>8.0</td>\n",
       "      <td>16.0</td>\n",
       "      <td>21.00</td>\n",
       "      <td>31.0</td>\n",
       "    </tr>\n",
       "    <tr>\n",
       "      <th>duration</th>\n",
       "      <td>22606.0</td>\n",
       "      <td>256.453287</td>\n",
       "      <td>253.361367</td>\n",
       "      <td>0.0</td>\n",
       "      <td>102.0</td>\n",
       "      <td>179.5</td>\n",
       "      <td>318.00</td>\n",
       "      <td>3881.0</td>\n",
       "    </tr>\n",
       "    <tr>\n",
       "      <th>campaign</th>\n",
       "      <td>22606.0</td>\n",
       "      <td>2.754180</td>\n",
       "      <td>3.089615</td>\n",
       "      <td>1.0</td>\n",
       "      <td>1.0</td>\n",
       "      <td>2.0</td>\n",
       "      <td>3.00</td>\n",
       "      <td>55.0</td>\n",
       "    </tr>\n",
       "    <tr>\n",
       "      <th>pdays</th>\n",
       "      <td>22606.0</td>\n",
       "      <td>39.914846</td>\n",
       "      <td>100.131590</td>\n",
       "      <td>-1.0</td>\n",
       "      <td>-1.0</td>\n",
       "      <td>-1.0</td>\n",
       "      <td>-1.00</td>\n",
       "      <td>854.0</td>\n",
       "    </tr>\n",
       "    <tr>\n",
       "      <th>previous</th>\n",
       "      <td>22606.0</td>\n",
       "      <td>0.567947</td>\n",
       "      <td>1.865971</td>\n",
       "      <td>0.0</td>\n",
       "      <td>0.0</td>\n",
       "      <td>0.0</td>\n",
       "      <td>0.00</td>\n",
       "      <td>40.0</td>\n",
       "    </tr>\n",
       "  </tbody>\n",
       "</table>\n",
       "</div>"
      ],
      "text/plain": [
       "                       count         mean          std     min    25%    50%  \\\n",
       "job_admin.           22606.0     0.115677     0.319845     0.0    0.0    0.0   \n",
       "job_blue-collar      22606.0     0.214633     0.410577     0.0    0.0    0.0   \n",
       "job_entrepreneur     22606.0     0.032956     0.178525     0.0    0.0    0.0   \n",
       "job_housemaid        22606.0     0.028576     0.166617     0.0    0.0    0.0   \n",
       "job_management       22606.0     0.211006     0.408032     0.0    0.0    0.0   \n",
       "job_retired          22606.0     0.049279     0.216455     0.0    0.0    0.0   \n",
       "job_self-employed    22606.0     0.034681     0.182975     0.0    0.0    0.0   \n",
       "job_services         22606.0     0.091480     0.288297     0.0    0.0    0.0   \n",
       "job_student          22606.0     0.020747     0.142538     0.0    0.0    0.0   \n",
       "job_technician       22606.0     0.167345     0.373292     0.0    0.0    0.0   \n",
       "job_unemployed       22606.0     0.027117     0.162427     0.0    0.0    0.0   \n",
       "job_unknown          22606.0     0.006503     0.080378     0.0    0.0    0.0   \n",
       "marital_divorced     22606.0     0.114350     0.318243     0.0    0.0    0.0   \n",
       "marital_married      22606.0     0.601345     0.489632     0.0    0.0    1.0   \n",
       "marital_single       22606.0     0.284305     0.451093     0.0    0.0    0.0   \n",
       "education_primary    22606.0     0.148943     0.356040     0.0    0.0    0.0   \n",
       "education_secondary  22606.0     0.513138     0.499838     0.0    0.0    1.0   \n",
       "education_tertiary   22606.0     0.296028     0.456513     0.0    0.0    0.0   \n",
       "education_unknown    22606.0     0.041892     0.200346     0.0    0.0    0.0   \n",
       "contact_cellular     22606.0     0.646200     0.478159     0.0    0.0    1.0   \n",
       "contact_telephone    22606.0     0.065115     0.246735     0.0    0.0    0.0   \n",
       "contact_unknown      22606.0     0.288684     0.453161     0.0    0.0    0.0   \n",
       "month_apr            22606.0     0.065691     0.247746     0.0    0.0    0.0   \n",
       "month_aug            22606.0     0.138592     0.345527     0.0    0.0    0.0   \n",
       "month_dec            22606.0     0.004999     0.070526     0.0    0.0    0.0   \n",
       "month_feb            22606.0     0.057861     0.233485     0.0    0.0    0.0   \n",
       "month_jan            22606.0     0.031054     0.173467     0.0    0.0    0.0   \n",
       "month_jul            22606.0     0.151907     0.358938     0.0    0.0    0.0   \n",
       "month_jun            22606.0     0.117978     0.322589     0.0    0.0    0.0   \n",
       "month_mar            22606.0     0.010484     0.101855     0.0    0.0    0.0   \n",
       "month_may            22606.0     0.304123     0.460045     0.0    0.0    0.0   \n",
       "month_nov            22606.0     0.087720     0.282894     0.0    0.0    0.0   \n",
       "month_oct            22606.0     0.016677     0.128061     0.0    0.0    0.0   \n",
       "month_sep            22606.0     0.012917     0.112919     0.0    0.0    0.0   \n",
       "poutcome_failure     22606.0     0.106255     0.308171     0.0    0.0    0.0   \n",
       "poutcome_other       22606.0     0.041228     0.198822     0.0    0.0    0.0   \n",
       "poutcome_success     22606.0     0.034150     0.181619     0.0    0.0    0.0   \n",
       "poutcome_unknown     22606.0     0.818367     0.385550     0.0    1.0    1.0   \n",
       "default              22606.0     0.017916     0.132648     0.0    0.0    0.0   \n",
       "housing              22606.0     0.555914     0.496875     0.0    0.0    1.0   \n",
       "loan                 22606.0     0.160842     0.367394     0.0    0.0    0.0   \n",
       "age                  22606.0    40.906839    10.640958    18.0   33.0   39.0   \n",
       "balance              22606.0  1360.106874  3068.060471 -3372.0   68.0  440.5   \n",
       "day                  22606.0    15.826285     8.336478     1.0    8.0   16.0   \n",
       "duration             22606.0   256.453287   253.361367     0.0  102.0  179.5   \n",
       "campaign             22606.0     2.754180     3.089615     1.0    1.0    2.0   \n",
       "pdays                22606.0    39.914846   100.131590    -1.0   -1.0   -1.0   \n",
       "previous             22606.0     0.567947     1.865971     0.0    0.0    0.0   \n",
       "\n",
       "                         75%      max  \n",
       "job_admin.              0.00      1.0  \n",
       "job_blue-collar         0.00      1.0  \n",
       "job_entrepreneur        0.00      1.0  \n",
       "job_housemaid           0.00      1.0  \n",
       "job_management          0.00      1.0  \n",
       "job_retired             0.00      1.0  \n",
       "job_self-employed       0.00      1.0  \n",
       "job_services            0.00      1.0  \n",
       "job_student             0.00      1.0  \n",
       "job_technician          0.00      1.0  \n",
       "job_unemployed          0.00      1.0  \n",
       "job_unknown             0.00      1.0  \n",
       "marital_divorced        0.00      1.0  \n",
       "marital_married         1.00      1.0  \n",
       "marital_single          1.00      1.0  \n",
       "education_primary       0.00      1.0  \n",
       "education_secondary     1.00      1.0  \n",
       "education_tertiary      1.00      1.0  \n",
       "education_unknown       0.00      1.0  \n",
       "contact_cellular        1.00      1.0  \n",
       "contact_telephone       0.00      1.0  \n",
       "contact_unknown         1.00      1.0  \n",
       "month_apr               0.00      1.0  \n",
       "month_aug               0.00      1.0  \n",
       "month_dec               0.00      1.0  \n",
       "month_feb               0.00      1.0  \n",
       "month_jan               0.00      1.0  \n",
       "month_jul               0.00      1.0  \n",
       "month_jun               0.00      1.0  \n",
       "month_mar               0.00      1.0  \n",
       "month_may               1.00      1.0  \n",
       "month_nov               0.00      1.0  \n",
       "month_oct               0.00      1.0  \n",
       "month_sep               0.00      1.0  \n",
       "poutcome_failure        0.00      1.0  \n",
       "poutcome_other          0.00      1.0  \n",
       "poutcome_success        0.00      1.0  \n",
       "poutcome_unknown        1.00      1.0  \n",
       "default                 0.00      1.0  \n",
       "housing                 1.00      1.0  \n",
       "loan                    0.00      1.0  \n",
       "age                    48.00     95.0  \n",
       "balance              1422.75  98417.0  \n",
       "day                    21.00     31.0  \n",
       "duration              318.00   3881.0  \n",
       "campaign                3.00     55.0  \n",
       "pdays                  -1.00    854.0  \n",
       "previous                0.00     40.0  "
      ]
     },
     "execution_count": 16,
     "metadata": {},
     "output_type": "execute_result"
    }
   ],
   "source": [
    "X.describe().transpose()"
   ]
  },
  {
   "cell_type": "code",
   "execution_count": 17,
   "metadata": {},
   "outputs": [
    {
     "data": {
      "text/plain": [
       "0    0\n",
       "1    0\n",
       "2    0\n",
       "3    0\n",
       "4    0\n",
       "Name: y, dtype: int64"
      ]
     },
     "execution_count": 17,
     "metadata": {},
     "output_type": "execute_result"
    }
   ],
   "source": [
    "# Create outcome variable y.\n",
    "y = train_dat['y'].copy()\n",
    "y.head()"
   ]
  },
  {
   "cell_type": "markdown",
   "metadata": {},
   "source": [
    "## 1.3 Data Split"
   ]
  },
  {
   "cell_type": "markdown",
   "metadata": {},
   "source": [
    "We already have a test dataset. However, we still need the validation dataset to tune the models. "
   ]
  },
  {
   "cell_type": "code",
   "execution_count": 18,
   "metadata": {},
   "outputs": [],
   "source": [
    "#simple split\n",
    "from sklearn.model_selection import train_test_split\n",
    "X_train, X_val, y_train, y_val = train_test_split(X, y, test_size = 0.3, random_state = 123)"
   ]
  },
  {
   "cell_type": "code",
   "execution_count": 19,
   "metadata": {},
   "outputs": [
    {
     "data": {
      "text/plain": [
       "(15824, 48)"
      ]
     },
     "execution_count": 19,
     "metadata": {},
     "output_type": "execute_result"
    }
   ],
   "source": [
    "X_train.shape"
   ]
  },
  {
   "cell_type": "code",
   "execution_count": 20,
   "metadata": {},
   "outputs": [
    {
     "data": {
      "text/plain": [
       "(6782, 48)"
      ]
     },
     "execution_count": 20,
     "metadata": {},
     "output_type": "execute_result"
    }
   ],
   "source": [
    "X_val.shape"
   ]
  },
  {
   "cell_type": "code",
   "execution_count": 21,
   "metadata": {},
   "outputs": [
    {
     "data": {
      "text/plain": [
       "(15824,)"
      ]
     },
     "execution_count": 21,
     "metadata": {},
     "output_type": "execute_result"
    }
   ],
   "source": [
    "y_train.shape"
   ]
  },
  {
   "cell_type": "code",
   "execution_count": 22,
   "metadata": {},
   "outputs": [
    {
     "data": {
      "text/plain": [
       "(6782,)"
      ]
     },
     "execution_count": 22,
     "metadata": {},
     "output_type": "execute_result"
    }
   ],
   "source": [
    "y_val.shape"
   ]
  },
  {
   "cell_type": "markdown",
   "metadata": {},
   "source": [
    "## 1.4 Normalize Data"
   ]
  },
  {
   "cell_type": "markdown",
   "metadata": {},
   "source": [
    "Some models are sensitive to the scales of data such as KNN, SVM, etc. Thus, here we will scale our data in the range [0,1]."
   ]
  },
  {
   "cell_type": "code",
   "execution_count": 23,
   "metadata": {},
   "outputs": [
    {
     "name": "stderr",
     "output_type": "stream",
     "text": [
      "C:\\Users\\Ang\\Anaconda3\\lib\\site-packages\\sklearn\\preprocessing\\data.py:323: DataConversionWarning: Data with input dtype uint8, int64 were all converted to float64 by MinMaxScaler.\n",
      "  return self.partial_fit(X, y)\n"
     ]
    }
   ],
   "source": [
    "from sklearn import preprocessing\n",
    "\n",
    "#create a scaler\n",
    "scaler = preprocessing.MinMaxScaler()\n",
    "\n",
    "#fit scaler with training data X_train\n",
    "scaler = scaler.fit(X_train)"
   ]
  },
  {
   "cell_type": "code",
   "execution_count": 24,
   "metadata": {},
   "outputs": [],
   "source": [
    "#transform training data\n",
    "X_train_scaled = scaler.transform(X_train)\n",
    "X_train_scaled = pd.DataFrame(X_train_scaled)\n",
    "X_train_scaled.columns = X_train.columns\n",
    "\n",
    "#transform validation data\n",
    "X_val_scaled = scaler.transform(X_val)\n",
    "X_val_scaled = pd.DataFrame(X_val_scaled)\n",
    "X_val_scaled.columns = X_val.columns"
   ]
  },
  {
   "cell_type": "code",
   "execution_count": 25,
   "metadata": {},
   "outputs": [],
   "source": [
    "#check data range\n",
    "#X_train_scaled.describe().T\n",
    "#X_val_scaled.describe().T"
   ]
  },
  {
   "cell_type": "markdown",
   "metadata": {},
   "source": [
    "# 2. k-Nearest Neighbors (k-NN)"
   ]
  },
  {
   "cell_type": "markdown",
   "metadata": {},
   "source": [
    "## 2.1 Train a KNN classifier"
   ]
  },
  {
   "cell_type": "code",
   "execution_count": 26,
   "metadata": {},
   "outputs": [],
   "source": [
    "from sklearn import neighbors\n",
    "from sklearn import metrics"
   ]
  },
  {
   "cell_type": "code",
   "execution_count": 27,
   "metadata": {},
   "outputs": [],
   "source": [
    "#define model\n",
    "knn = neighbors.KNeighborsClassifier(n_neighbors= 5,\n",
    "                                     weights = 'uniform',\n",
    "                                     algorithm='auto')\n",
    "#fit model\n",
    "knn = knn.fit(X_train_scaled, y_train)\n",
    "\n",
    "#make predictions\n",
    "knn_pred = knn.predict(X_val_scaled)"
   ]
  },
  {
   "cell_type": "code",
   "execution_count": 28,
   "metadata": {},
   "outputs": [
    {
     "data": {
      "text/plain": [
       "0.6077231289171712"
      ]
     },
     "execution_count": 28,
     "metadata": {},
     "output_type": "execute_result"
    }
   ],
   "source": [
    "# Calculate AUC\n",
    "metrics.roc_auc_score(y_val, knn_pred)"
   ]
  },
  {
   "cell_type": "markdown",
   "metadata": {},
   "source": [
    "## 2.2 Tune the KNN Classifier"
   ]
  },
  {
   "cell_type": "code",
   "execution_count": 29,
   "metadata": {},
   "outputs": [],
   "source": [
    "from sklearn.model_selection import GridSearchCV"
   ]
  },
  {
   "cell_type": "code",
   "execution_count": 30,
   "metadata": {},
   "outputs": [],
   "source": [
    "#define a baseline model\n",
    "knn = neighbors.KNeighborsClassifier()"
   ]
  },
  {
   "cell_type": "code",
   "execution_count": 31,
   "metadata": {},
   "outputs": [
    {
     "name": "stdout",
     "output_type": "stream",
     "text": [
      "AUC is  64.57 % for k = 1\n",
      "AUC is  57.25 % for k = 2\n",
      "AUC is  61.35 % for k = 3\n",
      "AUC is  57.79 % for k = 4\n",
      "AUC is  60.77 % for k = 5\n",
      "AUC is  57.49 % for k = 6\n",
      "AUC is  59.28 % for k = 7\n",
      "AUC is  56.98 % for k = 8\n",
      "AUC is  58.37 % for k = 9\n",
      "AUC is  56.31 % for k = 10\n"
     ]
    }
   ],
   "source": [
    "#try different n_neighbors for KNN\n",
    "for k in range(10):\n",
    "    k = k + 1\n",
    "    knn = neighbors.KNeighborsClassifier(n_neighbors = k, \n",
    "                                         weights='uniform', \n",
    "                                         algorithm='auto')\n",
    "    knn.fit(X_train_scaled, y_train)\n",
    "    y_pred = knn.predict(X_val_scaled)\n",
    "    print(\"AUC is \", round(metrics.roc_auc_score(y_val, y_pred)*100,2),\"% for k =\",k)"
   ]
  },
  {
   "cell_type": "markdown",
   "metadata": {},
   "source": [
    "From the results above, we can see that the KNN`s performance reached peaks at k = 1. "
   ]
  },
  {
   "cell_type": "code",
   "execution_count": 32,
   "metadata": {},
   "outputs": [],
   "source": [
    "#define knn model with 1 n_neighbor\n",
    "knn1 = neighbors.KNeighborsClassifier(n_neighbors = 1, \n",
    "                                         weights='uniform', \n",
    "                                         algorithm='auto')\n",
    "\n",
    "#fit model\n",
    "knn1 = knn1.fit(X_train_scaled,y_train)\n",
    "\n",
    "#make predictions\n",
    "knn1_pred = knn1.predict(X_val_scaled)              \n",
    "        "
   ]
  },
  {
   "cell_type": "code",
   "execution_count": 34,
   "metadata": {},
   "outputs": [
    {
     "data": {
      "text/plain": [
       "0.6456544564339655"
      ]
     },
     "execution_count": 34,
     "metadata": {},
     "output_type": "execute_result"
    }
   ],
   "source": [
    "# Calculate AUC\n",
    "metrics.roc_auc_score(y_val, knn1_pred)"
   ]
  },
  {
   "cell_type": "markdown",
   "metadata": {},
   "source": [
    "## 3. Naive Bayes"
   ]
  },
  {
   "cell_type": "markdown",
   "metadata": {},
   "source": [
    "### 3.1  Gaussian Naive Bayes Classifier"
   ]
  },
  {
   "cell_type": "code",
   "execution_count": 35,
   "metadata": {},
   "outputs": [],
   "source": [
    "# Gaussian Naive Bayes (GaussianNB) for classification. The likelihood of features is assumed to be Gaussian.\n",
    "from sklearn import naive_bayes"
   ]
  },
  {
   "cell_type": "code",
   "execution_count": 36,
   "metadata": {},
   "outputs": [],
   "source": [
    "#define baseline model\n",
    "gauss_nb = naive_bayes.GaussianNB()\n",
    "\n",
    "#fit model, Naive Bayes models doen`t care about distance between points. Thus we don`t use scaled data.\n",
    "gauss_nb.fit(X_train, y_train)\n",
    "\n",
    "#make predictions\n",
    "gauss_nb_pred = gauss_nb.predict(X_val)"
   ]
  },
  {
   "cell_type": "code",
   "execution_count": 38,
   "metadata": {},
   "outputs": [
    {
     "data": {
      "text/plain": [
       "0.7119945754516065"
      ]
     },
     "execution_count": 38,
     "metadata": {},
     "output_type": "execute_result"
    }
   ],
   "source": [
    "# Calculate AUC\n",
    "metrics.roc_auc_score(y_val, gauss_nb_pred)"
   ]
  },
  {
   "cell_type": "markdown",
   "metadata": {},
   "source": [
    "### 3.2 Bernoulli Naive Bayes Classifier"
   ]
  },
  {
   "cell_type": "code",
   "execution_count": 39,
   "metadata": {},
   "outputs": [],
   "source": [
    "#define baseline model\n",
    "bernou_nb = naive_bayes.BernoulliNB()\n",
    "\n",
    "#fit model, Naive Bayes models doen`t care about distance between points. Thus we don`t use scaled data.\n",
    "bernou_nb.fit(X_train, y_train)\n",
    "\n",
    "#make predictions\n",
    "bernou_nb_pred = gauss_nb.predict(X_val)"
   ]
  },
  {
   "cell_type": "code",
   "execution_count": 41,
   "metadata": {},
   "outputs": [
    {
     "data": {
      "text/plain": [
       "0.7119945754516065"
      ]
     },
     "execution_count": 41,
     "metadata": {},
     "output_type": "execute_result"
    }
   ],
   "source": [
    "# Calculate AUC\n",
    "metrics.roc_auc_score(y_val, bernou_nb_pred)"
   ]
  },
  {
   "cell_type": "markdown",
   "metadata": {},
   "source": [
    "## 4. Decision Tree Classifier"
   ]
  },
  {
   "cell_type": "code",
   "execution_count": 42,
   "metadata": {},
   "outputs": [],
   "source": [
    "from sklearn import tree\n",
    "# Decision trees for classification, use entropy criterion (gini by default)\n",
    "dt = tree.DecisionTreeClassifier(criterion='entropy')\n",
    "\n",
    "#fit model\n",
    "dt.fit(X_train, y_train)\n",
    "\n",
    "#make predictions\n",
    "dt_pred = dt.predict(X_val)"
   ]
  },
  {
   "cell_type": "code",
   "execution_count": 43,
   "metadata": {},
   "outputs": [
    {
     "data": {
      "text/plain": [
       "0.6989437085423724"
      ]
     },
     "execution_count": 43,
     "metadata": {},
     "output_type": "execute_result"
    }
   ],
   "source": [
    "# Calculate AUC\n",
    "metrics.roc_auc_score(y_val, dt_pred)"
   ]
  },
  {
   "cell_type": "markdown",
   "metadata": {},
   "source": [
    "### 4.1 Tuned Decision Tree"
   ]
  },
  {
   "cell_type": "code",
   "execution_count": 44,
   "metadata": {},
   "outputs": [],
   "source": [
    "# Decision trees for classification, use entropy criterion (gini by default)\n",
    "dt2 = tree.DecisionTreeClassifier(criterion='entropy', class_weight= 'balanced')\n",
    "\n",
    "#fit model\n",
    "dt2.fit(X_train, y_train)\n",
    "\n",
    "#make predictions\n",
    "dt2_pred = dt2.predict(X_val)"
   ]
  },
  {
   "cell_type": "code",
   "execution_count": 45,
   "metadata": {},
   "outputs": [
    {
     "data": {
      "text/plain": [
       "0.7037668368971766"
      ]
     },
     "execution_count": 45,
     "metadata": {},
     "output_type": "execute_result"
    }
   ],
   "source": [
    "# Calculate AUC\n",
    "metrics.roc_auc_score(y_val, dt2_pred)"
   ]
  },
  {
   "cell_type": "markdown",
   "metadata": {},
   "source": [
    "Decision tree with class weight tuned has slightly higher AUC score."
   ]
  },
  {
   "cell_type": "markdown",
   "metadata": {},
   "source": [
    "## 5. Random Forests"
   ]
  },
  {
   "cell_type": "code",
   "execution_count": 46,
   "metadata": {},
   "outputs": [],
   "source": [
    "from sklearn.ensemble import RandomForestClassifier"
   ]
  },
  {
   "cell_type": "markdown",
   "metadata": {},
   "source": [
    "### 5.1 RF Classifier"
   ]
  },
  {
   "cell_type": "code",
   "execution_count": 107,
   "metadata": {},
   "outputs": [],
   "source": [
    "# Train an RF classifier\n",
    "rf = RandomForestClassifier(n_estimators=5, max_features=25, random_state=123)\n",
    "\n",
    "#fit model\n",
    "rf.fit(X_train, y_train)\n",
    "\n",
    "#make predictions\n",
    "rf_pred = rf.predict(X_val)"
   ]
  },
  {
   "cell_type": "code",
   "execution_count": 108,
   "metadata": {},
   "outputs": [
    {
     "data": {
      "text/plain": [
       "0.7250653334824647"
      ]
     },
     "execution_count": 108,
     "metadata": {},
     "output_type": "execute_result"
    }
   ],
   "source": [
    "# Calculate AUC\n",
    "metrics.roc_auc_score(y_val, rf_pred)"
   ]
  },
  {
   "cell_type": "markdown",
   "metadata": {},
   "source": [
    "### 5.2 Finding Best Predictors with RF"
   ]
  },
  {
   "cell_type": "code",
   "execution_count": 110,
   "metadata": {
    "scrolled": true
   },
   "outputs": [
    {
     "data": {
      "text/html": [
       "<div>\n",
       "<style scoped>\n",
       "    .dataframe tbody tr th:only-of-type {\n",
       "        vertical-align: middle;\n",
       "    }\n",
       "\n",
       "    .dataframe tbody tr th {\n",
       "        vertical-align: top;\n",
       "    }\n",
       "\n",
       "    .dataframe thead th {\n",
       "        text-align: right;\n",
       "    }\n",
       "</style>\n",
       "<table border=\"1\" class=\"dataframe\">\n",
       "  <thead>\n",
       "    <tr style=\"text-align: right;\">\n",
       "      <th></th>\n",
       "      <th>importance</th>\n",
       "    </tr>\n",
       "  </thead>\n",
       "  <tbody>\n",
       "    <tr>\n",
       "      <th>duration</th>\n",
       "      <td>0.264787</td>\n",
       "    </tr>\n",
       "    <tr>\n",
       "      <th>balance</th>\n",
       "      <td>0.095241</td>\n",
       "    </tr>\n",
       "    <tr>\n",
       "      <th>age</th>\n",
       "      <td>0.088228</td>\n",
       "    </tr>\n",
       "    <tr>\n",
       "      <th>day</th>\n",
       "      <td>0.084761</td>\n",
       "    </tr>\n",
       "    <tr>\n",
       "      <th>poutcome_success</th>\n",
       "      <td>0.080238</td>\n",
       "    </tr>\n",
       "    <tr>\n",
       "      <th>pdays</th>\n",
       "      <td>0.039664</td>\n",
       "    </tr>\n",
       "    <tr>\n",
       "      <th>campaign</th>\n",
       "      <td>0.031021</td>\n",
       "    </tr>\n",
       "    <tr>\n",
       "      <th>month_mar</th>\n",
       "      <td>0.022455</td>\n",
       "    </tr>\n",
       "    <tr>\n",
       "      <th>housing</th>\n",
       "      <td>0.020400</td>\n",
       "    </tr>\n",
       "    <tr>\n",
       "      <th>previous</th>\n",
       "      <td>0.016270</td>\n",
       "    </tr>\n",
       "  </tbody>\n",
       "</table>\n",
       "</div>"
      ],
      "text/plain": [
       "                  importance\n",
       "duration            0.264787\n",
       "balance             0.095241\n",
       "age                 0.088228\n",
       "day                 0.084761\n",
       "poutcome_success    0.080238\n",
       "pdays               0.039664\n",
       "campaign            0.031021\n",
       "month_mar           0.022455\n",
       "housing             0.020400\n",
       "previous            0.016270"
      ]
     },
     "execution_count": 110,
     "metadata": {},
     "output_type": "execute_result"
    }
   ],
   "source": [
    "# Show feature importance\n",
    "feature_importances = pd.DataFrame(rf.feature_importances_,\n",
    "                                   index = X_train.columns,\n",
    "                                   columns=['importance'])\n",
    "feature_importances = feature_importances.sort_values('importance',ascending=False)\n",
    "\n",
    "feature_importances.head(10)"
   ]
  },
  {
   "cell_type": "code",
   "execution_count": 113,
   "metadata": {},
   "outputs": [
    {
     "data": {
      "text/plain": [
       "<matplotlib.axes._subplots.AxesSubplot at 0x1b772988208>"
      ]
     },
     "execution_count": 113,
     "metadata": {},
     "output_type": "execute_result"
    },
    {
     "data": {
      "image/png": "[encoded data removed]",
      "text/plain": [
       "<Figure size 1080x360 with 1 Axes>"
      ]
     },
     "metadata": {
      "needs_background": "light"
     },
     "output_type": "display_data"
    }
   ],
   "source": [
    "feature_importances.plot(kind = 'bar',figsize=(15,5),\n",
    "                         title='Feature Importance')"
   ]
  },
  {
   "cell_type": "code",
   "execution_count": 114,
   "metadata": {
    "scrolled": true
   },
   "outputs": [
    {
     "name": "stdout",
     "output_type": "stream",
     "text": [
      "<class 'pandas.core.frame.DataFrame'>\n",
      "RangeIndex: 15824 entries, 0 to 15823\n",
      "Data columns (total 25 columns):\n",
      "duration               15824 non-null float64\n",
      "balance                15824 non-null float64\n",
      "age                    15824 non-null float64\n",
      "day                    15824 non-null float64\n",
      "poutcome_success       15824 non-null float64\n",
      "pdays                  15824 non-null float64\n",
      "campaign               15824 non-null float64\n",
      "month_mar              15824 non-null float64\n",
      "housing                15824 non-null float64\n",
      "previous               15824 non-null float64\n",
      "contact_unknown        15824 non-null float64\n",
      "month_oct              15824 non-null float64\n",
      "month_jun              15824 non-null float64\n",
      "job_management         15824 non-null float64\n",
      "month_apr              15824 non-null float64\n",
      "marital_married        15824 non-null float64\n",
      "education_secondary    15824 non-null float64\n",
      "job_blue-collar        15824 non-null float64\n",
      "job_admin.             15824 non-null float64\n",
      "poutcome_unknown       15824 non-null float64\n",
      "month_may              15824 non-null float64\n",
      "job_technician         15824 non-null float64\n",
      "education_tertiary     15824 non-null float64\n",
      "month_aug              15824 non-null float64\n",
      "loan                   15824 non-null float64\n",
      "dtypes: float64(25)\n",
      "memory usage: 3.0 MB\n"
     ]
    }
   ],
   "source": [
    "# Select the 25 most importance features\n",
    "X_train_scaled_imp = X_train_scaled[feature_importances.index[range(25)]]\n",
    "X_train_scaled_imp.info()"
   ]
  },
  {
   "cell_type": "code",
   "execution_count": 116,
   "metadata": {},
   "outputs": [
    {
     "name": "stdout",
     "output_type": "stream",
     "text": [
      "<class 'pandas.core.frame.DataFrame'>\n",
      "RangeIndex: 6782 entries, 0 to 6781\n",
      "Data columns (total 25 columns):\n",
      "duration               6782 non-null float64\n",
      "balance                6782 non-null float64\n",
      "age                    6782 non-null float64\n",
      "day                    6782 non-null float64\n",
      "poutcome_success       6782 non-null float64\n",
      "pdays                  6782 non-null float64\n",
      "campaign               6782 non-null float64\n",
      "month_mar              6782 non-null float64\n",
      "housing                6782 non-null float64\n",
      "previous               6782 non-null float64\n",
      "contact_unknown        6782 non-null float64\n",
      "month_oct              6782 non-null float64\n",
      "month_jun              6782 non-null float64\n",
      "job_management         6782 non-null float64\n",
      "month_apr              6782 non-null float64\n",
      "marital_married        6782 non-null float64\n",
      "education_secondary    6782 non-null float64\n",
      "job_blue-collar        6782 non-null float64\n",
      "job_admin.             6782 non-null float64\n",
      "poutcome_unknown       6782 non-null float64\n",
      "month_may              6782 non-null float64\n",
      "job_technician         6782 non-null float64\n",
      "education_tertiary     6782 non-null float64\n",
      "month_aug              6782 non-null float64\n",
      "loan                   6782 non-null float64\n",
      "dtypes: float64(25)\n",
      "memory usage: 1.3 MB\n"
     ]
    }
   ],
   "source": [
    "X_val_scaled_imp = X_val_scaled[feature_importances.index[range(25)]]\n",
    "X_val_scaled_imp.info()"
   ]
  },
  {
   "cell_type": "markdown",
   "metadata": {},
   "source": [
    "## 6. Logistic Regression"
   ]
  },
  {
   "cell_type": "markdown",
   "metadata": {},
   "source": [
    "### 6.1 Logistic Regression without Class Weight"
   ]
  },
  {
   "cell_type": "code",
   "execution_count": 157,
   "metadata": {},
   "outputs": [],
   "source": [
    "from sklearn.linear_model import LogisticRegression"
   ]
  },
  {
   "cell_type": "code",
   "execution_count": 158,
   "metadata": {},
   "outputs": [],
   "source": [
    "# Assign class_weight as 10 for class 1 (class 0 will have 1 as class weight by default)\n",
    "logit1 = LogisticRegression(solver='liblinear')\n",
    "\n",
    "#fit the refined model\n",
    "logit1.fit(X_train,y_train)\n",
    "\n",
    "#make predictions\n",
    "logit1_pred = logit1.predict(X_val)"
   ]
  },
  {
   "cell_type": "markdown",
   "metadata": {},
   "source": [
    "### 6.2 Logistic Regression with Class Weight"
   ]
  },
  {
   "cell_type": "code",
   "execution_count": 159,
   "metadata": {},
   "outputs": [],
   "source": [
    "# Assign class_weight as 10 for class 1 (class 0 will have 1 as class weight by default)\n",
    "logit2 = LogisticRegression(class_weight={1:10}, solver='liblinear')\n",
    "\n",
    "#fit the refined model\n",
    "logit2.fit(X_train,y_train)\n",
    "\n",
    "#make predictions\n",
    "logit2_pred = logit2.predict(X_val)"
   ]
  },
  {
   "cell_type": "markdown",
   "metadata": {},
   "source": [
    "### 6.3 Comparing the Performance"
   ]
  },
  {
   "cell_type": "code",
   "execution_count": 160,
   "metadata": {},
   "outputs": [
    {
     "data": {
      "text/plain": [
       "0.6678899185755374"
      ]
     },
     "execution_count": 160,
     "metadata": {},
     "output_type": "execute_result"
    }
   ],
   "source": [
    "# Calculate AUC\n",
    "metrics.roc_auc_score(y_val, logit1_pred)"
   ]
  },
  {
   "cell_type": "code",
   "execution_count": 161,
   "metadata": {},
   "outputs": [
    {
     "data": {
      "text/plain": [
       "0.8380965800392697"
      ]
     },
     "execution_count": 161,
     "metadata": {},
     "output_type": "execute_result"
    }
   ],
   "source": [
    "# Calculate AUC\n",
    "metrics.roc_auc_score(y_val, logit2_pred)"
   ]
  },
  {
   "cell_type": "markdown",
   "metadata": {},
   "source": [
    "It is obvious that the logistic regression works great with imbalance issue solved"
   ]
  },
  {
   "cell_type": "markdown",
   "metadata": {},
   "source": [
    "## 7. Neural Network"
   ]
  },
  {
   "cell_type": "code",
   "execution_count": 162,
   "metadata": {},
   "outputs": [],
   "source": [
    "from sklearn import neural_network"
   ]
  },
  {
   "cell_type": "code",
   "execution_count": 163,
   "metadata": {},
   "outputs": [],
   "source": [
    "# Specify an ANN model, use 1 hidden layer with 20 nodes, using all features\n",
    "ann1 = neural_network.MLPClassifier(alpha=1e-5,\n",
    "                                   hidden_layer_sizes=(20),\n",
    "                                   random_state=1)"
   ]
  },
  {
   "cell_type": "code",
   "execution_count": 164,
   "metadata": {},
   "outputs": [
    {
     "name": "stderr",
     "output_type": "stream",
     "text": [
      "C:\\Users\\Ang\\Anaconda3\\lib\\site-packages\\sklearn\\neural_network\\multilayer_perceptron.py:562: ConvergenceWarning: Stochastic Optimizer: Maximum iterations (200) reached and the optimization hasn't converged yet.\n",
      "  % self.max_iter, ConvergenceWarning)\n"
     ]
    },
    {
     "data": {
      "text/plain": [
       "MLPClassifier(activation='relu', alpha=1e-05, batch_size='auto', beta_1=0.9,\n",
       "       beta_2=0.999, early_stopping=False, epsilon=1e-08,\n",
       "       hidden_layer_sizes=20, learning_rate='constant',\n",
       "       learning_rate_init=0.001, max_iter=200, momentum=0.9,\n",
       "       n_iter_no_change=10, nesterovs_momentum=True, power_t=0.5,\n",
       "       random_state=1, shuffle=True, solver='adam', tol=0.0001,\n",
       "       validation_fraction=0.1, verbose=False, warm_start=False)"
      ]
     },
     "execution_count": 164,
     "metadata": {},
     "output_type": "execute_result"
    }
   ],
   "source": [
    "#fit model\n",
    "ann1.fit(X_train_scaled, y_train)"
   ]
  },
  {
   "cell_type": "code",
   "execution_count": 165,
   "metadata": {},
   "outputs": [],
   "source": [
    "# Predict on test set\n",
    "ann1_pred = ann1.predict(X_val_scaled)"
   ]
  },
  {
   "cell_type": "code",
   "execution_count": 166,
   "metadata": {},
   "outputs": [
    {
     "data": {
      "text/plain": [
       "0.7047672249302613"
      ]
     },
     "execution_count": 166,
     "metadata": {},
     "output_type": "execute_result"
    }
   ],
   "source": [
    "metrics.roc_auc_score(y_val, ann1_pred)"
   ]
  },
  {
   "cell_type": "code",
   "execution_count": 167,
   "metadata": {},
   "outputs": [
    {
     "name": "stderr",
     "output_type": "stream",
     "text": [
      "C:\\Users\\Ang\\Anaconda3\\lib\\site-packages\\sklearn\\neural_network\\multilayer_perceptron.py:562: ConvergenceWarning: Stochastic Optimizer: Maximum iterations (200) reached and the optimization hasn't converged yet.\n",
      "  % self.max_iter, ConvergenceWarning)\n"
     ]
    }
   ],
   "source": [
    "# Specify an ANN model, use 3 hidden layer with 20,15,10 nodes, using all features\n",
    "ann2 = neural_network.MLPClassifier(alpha=1e-5,\n",
    "                                   hidden_layer_sizes=(20,15,10),\n",
    "                                   random_state=1)\n",
    "#fit model\n",
    "ann2.fit(X_train_scaled, y_train)\n",
    "\n",
    "# Predict on test set\n",
    "ann2_pred = ann2.predict(X_val_scaled)"
   ]
  },
  {
   "cell_type": "code",
   "execution_count": 168,
   "metadata": {},
   "outputs": [
    {
     "data": {
      "text/plain": [
       "0.7196014194137764"
      ]
     },
     "execution_count": 168,
     "metadata": {},
     "output_type": "execute_result"
    }
   ],
   "source": [
    "metrics.roc_auc_score(y_val, ann2_pred)"
   ]
  },
  {
   "cell_type": "code",
   "execution_count": 169,
   "metadata": {},
   "outputs": [
    {
     "name": "stderr",
     "output_type": "stream",
     "text": [
      "C:\\Users\\Ang\\Anaconda3\\lib\\site-packages\\sklearn\\neural_network\\multilayer_perceptron.py:562: ConvergenceWarning: Stochastic Optimizer: Maximum iterations (200) reached and the optimization hasn't converged yet.\n",
      "  % self.max_iter, ConvergenceWarning)\n"
     ]
    }
   ],
   "source": [
    "# Specify an ANN model, use 3 hidden layer with 20,15,10 nodes\n",
    "ann3 = neural_network.MLPClassifier(alpha=1e-5,\n",
    "                                   hidden_layer_sizes=(20,15,10),\n",
    "                                   random_state=1)\n",
    "#fit model\n",
    "ann3.fit(X_train_scaled_imp, y_train)\n",
    "\n",
    "# Predict on test set\n",
    "ann3_pred = ann3.predict(X_val_scaled_imp)"
   ]
  },
  {
   "cell_type": "code",
   "execution_count": 170,
   "metadata": {},
   "outputs": [
    {
     "data": {
      "text/plain": [
       "0.7047672249302613"
      ]
     },
     "execution_count": 170,
     "metadata": {},
     "output_type": "execute_result"
    }
   ],
   "source": [
    "metrics.roc_auc_score(y_val, ann1_pred)"
   ]
  },
  {
   "cell_type": "markdown",
   "metadata": {},
   "source": [
    "## 8. Summary of All Methods"
   ]
  },
  {
   "cell_type": "markdown",
   "metadata": {},
   "source": [
    "After building the model, now we need to test our model on the real-world data. We have a test dataset which has never been used duing the modeling. Here we will use it to test our model's generalizability on real-problem data."
   ]
  },
  {
   "cell_type": "markdown",
   "metadata": {},
   "source": [
    "### 8.1 Prepare Test Data for Use"
   ]
  },
  {
   "cell_type": "code",
   "execution_count": 171,
   "metadata": {},
   "outputs": [
    {
     "data": {
      "text/plain": [
       "['.ipynb_checkpoints',\n",
       " 'Data_Competition_2.ipynb',\n",
       " 'IST 5520 Data Competition II.pdf',\n",
       " 'test.csv',\n",
       " 'train.csv',\n",
       " 'Yao_data competition 2.ipynb']"
      ]
     },
     "execution_count": 171,
     "metadata": {},
     "output_type": "execute_result"
    }
   ],
   "source": [
    "os.listdir()"
   ]
  },
  {
   "cell_type": "code",
   "execution_count": 172,
   "metadata": {},
   "outputs": [],
   "source": [
    "#import test data\n",
    "test_dat = pd.read_csv('test.csv')"
   ]
  },
  {
   "cell_type": "code",
   "execution_count": 173,
   "metadata": {},
   "outputs": [
    {
     "data": {
      "text/html": [
       "<div>\n",
       "<style scoped>\n",
       "    .dataframe tbody tr th:only-of-type {\n",
       "        vertical-align: middle;\n",
       "    }\n",
       "\n",
       "    .dataframe tbody tr th {\n",
       "        vertical-align: top;\n",
       "    }\n",
       "\n",
       "    .dataframe thead th {\n",
       "        text-align: right;\n",
       "    }\n",
       "</style>\n",
       "<table border=\"1\" class=\"dataframe\">\n",
       "  <thead>\n",
       "    <tr style=\"text-align: right;\">\n",
       "      <th></th>\n",
       "      <th>age</th>\n",
       "      <th>job</th>\n",
       "      <th>marital</th>\n",
       "      <th>education</th>\n",
       "      <th>default</th>\n",
       "      <th>balance</th>\n",
       "      <th>housing</th>\n",
       "      <th>loan</th>\n",
       "      <th>contact</th>\n",
       "      <th>day</th>\n",
       "      <th>month</th>\n",
       "      <th>duration</th>\n",
       "      <th>campaign</th>\n",
       "      <th>pdays</th>\n",
       "      <th>previous</th>\n",
       "      <th>poutcome</th>\n",
       "      <th>y</th>\n",
       "    </tr>\n",
       "  </thead>\n",
       "  <tbody>\n",
       "    <tr>\n",
       "      <th>0</th>\n",
       "      <td>33</td>\n",
       "      <td>unknown</td>\n",
       "      <td>single</td>\n",
       "      <td>unknown</td>\n",
       "      <td>no</td>\n",
       "      <td>1</td>\n",
       "      <td>no</td>\n",
       "      <td>no</td>\n",
       "      <td>unknown</td>\n",
       "      <td>5</td>\n",
       "      <td>may</td>\n",
       "      <td>198</td>\n",
       "      <td>1</td>\n",
       "      <td>-1</td>\n",
       "      <td>0</td>\n",
       "      <td>unknown</td>\n",
       "      <td>0</td>\n",
       "    </tr>\n",
       "    <tr>\n",
       "      <th>1</th>\n",
       "      <td>42</td>\n",
       "      <td>entrepreneur</td>\n",
       "      <td>divorced</td>\n",
       "      <td>tertiary</td>\n",
       "      <td>yes</td>\n",
       "      <td>2</td>\n",
       "      <td>yes</td>\n",
       "      <td>no</td>\n",
       "      <td>unknown</td>\n",
       "      <td>5</td>\n",
       "      <td>may</td>\n",
       "      <td>380</td>\n",
       "      <td>1</td>\n",
       "      <td>-1</td>\n",
       "      <td>0</td>\n",
       "      <td>unknown</td>\n",
       "      <td>0</td>\n",
       "    </tr>\n",
       "    <tr>\n",
       "      <th>2</th>\n",
       "      <td>43</td>\n",
       "      <td>technician</td>\n",
       "      <td>single</td>\n",
       "      <td>secondary</td>\n",
       "      <td>no</td>\n",
       "      <td>593</td>\n",
       "      <td>yes</td>\n",
       "      <td>no</td>\n",
       "      <td>unknown</td>\n",
       "      <td>5</td>\n",
       "      <td>may</td>\n",
       "      <td>55</td>\n",
       "      <td>1</td>\n",
       "      <td>-1</td>\n",
       "      <td>0</td>\n",
       "      <td>unknown</td>\n",
       "      <td>0</td>\n",
       "    </tr>\n",
       "    <tr>\n",
       "      <th>3</th>\n",
       "      <td>41</td>\n",
       "      <td>admin.</td>\n",
       "      <td>divorced</td>\n",
       "      <td>secondary</td>\n",
       "      <td>no</td>\n",
       "      <td>270</td>\n",
       "      <td>yes</td>\n",
       "      <td>no</td>\n",
       "      <td>unknown</td>\n",
       "      <td>5</td>\n",
       "      <td>may</td>\n",
       "      <td>222</td>\n",
       "      <td>1</td>\n",
       "      <td>-1</td>\n",
       "      <td>0</td>\n",
       "      <td>unknown</td>\n",
       "      <td>0</td>\n",
       "    </tr>\n",
       "    <tr>\n",
       "      <th>4</th>\n",
       "      <td>53</td>\n",
       "      <td>technician</td>\n",
       "      <td>married</td>\n",
       "      <td>secondary</td>\n",
       "      <td>no</td>\n",
       "      <td>6</td>\n",
       "      <td>yes</td>\n",
       "      <td>no</td>\n",
       "      <td>unknown</td>\n",
       "      <td>5</td>\n",
       "      <td>may</td>\n",
       "      <td>517</td>\n",
       "      <td>1</td>\n",
       "      <td>-1</td>\n",
       "      <td>0</td>\n",
       "      <td>unknown</td>\n",
       "      <td>0</td>\n",
       "    </tr>\n",
       "  </tbody>\n",
       "</table>\n",
       "</div>"
      ],
      "text/plain": [
       "   age           job   marital  education default  balance housing loan  \\\n",
       "0   33       unknown    single    unknown      no        1      no   no   \n",
       "1   42  entrepreneur  divorced   tertiary     yes        2     yes   no   \n",
       "2   43    technician    single  secondary      no      593     yes   no   \n",
       "3   41        admin.  divorced  secondary      no      270     yes   no   \n",
       "4   53    technician   married  secondary      no        6     yes   no   \n",
       "\n",
       "   contact  day month  duration  campaign  pdays  previous poutcome  y  \n",
       "0  unknown    5   may       198         1     -1         0  unknown  0  \n",
       "1  unknown    5   may       380         1     -1         0  unknown  0  \n",
       "2  unknown    5   may        55         1     -1         0  unknown  0  \n",
       "3  unknown    5   may       222         1     -1         0  unknown  0  \n",
       "4  unknown    5   may       517         1     -1         0  unknown  0  "
      ]
     },
     "execution_count": 173,
     "metadata": {},
     "output_type": "execute_result"
    }
   ],
   "source": [
    "test_dat.head()"
   ]
  },
  {
   "cell_type": "code",
   "execution_count": 174,
   "metadata": {},
   "outputs": [],
   "source": [
    "#one-hot encoding\n",
    "#get dummy variables\n",
    "job = pd.get_dummies(test_dat['job'], prefix = 'job')\n",
    "marital = pd.get_dummies(test_dat['marital'], prefix = 'marital')\n",
    "education = pd.get_dummies(test_dat['education'], prefix = 'education')\n",
    "contact = pd.get_dummies(test_dat['contact'], prefix = 'contact')\n",
    "month = pd.get_dummies(test_dat['month'], prefix = 'month')\n",
    "poutcome = pd.get_dummies(test_dat['poutcome'], prefix = 'poutcome')"
   ]
  },
  {
   "cell_type": "code",
   "execution_count": 175,
   "metadata": {},
   "outputs": [],
   "source": [
    "#change string variables\n",
    "default = test_dat.default.replace(['no','yes'],[0,1]) # 1 as yes, 0 as no\n",
    "housing = test_dat.housing.replace(['no','yes'],[0,1]) # 1 as yes, 0 as no\n",
    "loan = test_dat.loan.replace(['no','yes'],[0,1]) # 1 as yes, 0 as no\n"
   ]
  },
  {
   "cell_type": "code",
   "execution_count": 176,
   "metadata": {},
   "outputs": [
    {
     "name": "stdout",
     "output_type": "stream",
     "text": [
      "<class 'pandas.core.frame.DataFrame'>\n",
      "RangeIndex: 22605 entries, 0 to 22604\n",
      "Data columns (total 48 columns):\n",
      "job_admin.             22605 non-null uint8\n",
      "job_blue-collar        22605 non-null uint8\n",
      "job_entrepreneur       22605 non-null uint8\n",
      "job_housemaid          22605 non-null uint8\n",
      "job_management         22605 non-null uint8\n",
      "job_retired            22605 non-null uint8\n",
      "job_self-employed      22605 non-null uint8\n",
      "job_services           22605 non-null uint8\n",
      "job_student            22605 non-null uint8\n",
      "job_technician         22605 non-null uint8\n",
      "job_unemployed         22605 non-null uint8\n",
      "job_unknown            22605 non-null uint8\n",
      "marital_divorced       22605 non-null uint8\n",
      "marital_married        22605 non-null uint8\n",
      "marital_single         22605 non-null uint8\n",
      "education_primary      22605 non-null uint8\n",
      "education_secondary    22605 non-null uint8\n",
      "education_tertiary     22605 non-null uint8\n",
      "education_unknown      22605 non-null uint8\n",
      "contact_cellular       22605 non-null uint8\n",
      "contact_telephone      22605 non-null uint8\n",
      "contact_unknown        22605 non-null uint8\n",
      "month_apr              22605 non-null uint8\n",
      "month_aug              22605 non-null uint8\n",
      "month_dec              22605 non-null uint8\n",
      "month_feb              22605 non-null uint8\n",
      "month_jan              22605 non-null uint8\n",
      "month_jul              22605 non-null uint8\n",
      "month_jun              22605 non-null uint8\n",
      "month_mar              22605 non-null uint8\n",
      "month_may              22605 non-null uint8\n",
      "month_nov              22605 non-null uint8\n",
      "month_oct              22605 non-null uint8\n",
      "month_sep              22605 non-null uint8\n",
      "poutcome_failure       22605 non-null uint8\n",
      "poutcome_other         22605 non-null uint8\n",
      "poutcome_success       22605 non-null uint8\n",
      "poutcome_unknown       22605 non-null uint8\n",
      "default                22605 non-null int64\n",
      "housing                22605 non-null int64\n",
      "loan                   22605 non-null int64\n",
      "age                    22605 non-null int64\n",
      "balance                22605 non-null int64\n",
      "day                    22605 non-null int64\n",
      "duration               22605 non-null int64\n",
      "campaign               22605 non-null int64\n",
      "pdays                  22605 non-null int64\n",
      "previous               22605 non-null int64\n",
      "dtypes: int64(10), uint8(38)\n",
      "memory usage: 2.5 MB\n"
     ]
    }
   ],
   "source": [
    "# Concat all dummies, modified string variables, and continuous variables to create predictors X\n",
    "X_test = pd.concat([job,marital,education,contact,month,poutcome,\n",
    "               default,housing,loan,\n",
    "               test_dat[['age', 'balance', 'day', 'duration', 'campaign', 'pdays',\n",
    "               'previous']]\n",
    "              ],\n",
    "              axis=1)\n",
    "X_test.info()"
   ]
  },
  {
   "cell_type": "code",
   "execution_count": 177,
   "metadata": {},
   "outputs": [
    {
     "data": {
      "text/plain": [
       "0    19961\n",
       "1     2644\n",
       "Name: y, dtype: int64"
      ]
     },
     "execution_count": 177,
     "metadata": {},
     "output_type": "execute_result"
    }
   ],
   "source": [
    "# Create outcome variable y.\n",
    "y_test = test_dat['y'].copy()\n",
    "y_test.value_counts()"
   ]
  },
  {
   "cell_type": "code",
   "execution_count": 178,
   "metadata": {},
   "outputs": [
    {
     "data": {
      "text/plain": [
       "(22605, 48)"
      ]
     },
     "execution_count": 178,
     "metadata": {},
     "output_type": "execute_result"
    }
   ],
   "source": [
    "X_test.shape"
   ]
  },
  {
   "cell_type": "code",
   "execution_count": 179,
   "metadata": {},
   "outputs": [
    {
     "data": {
      "text/plain": [
       "(22605,)"
      ]
     },
     "execution_count": 179,
     "metadata": {},
     "output_type": "execute_result"
    }
   ],
   "source": [
    "y_test.shape"
   ]
  },
  {
   "cell_type": "code",
   "execution_count": 186,
   "metadata": {},
   "outputs": [],
   "source": [
    "#normalize testing data\n",
    "#transform testing data\n",
    "X_test_scaled = scaler.transform(X_test)\n",
    "X_test_scaled = pd.DataFrame(X_test_scaled)\n",
    "X_test_scaled.columns = X_test.columns"
   ]
  },
  {
   "cell_type": "code",
   "execution_count": 187,
   "metadata": {},
   "outputs": [
    {
     "name": "stdout",
     "output_type": "stream",
     "text": [
      "<class 'pandas.core.frame.DataFrame'>\n",
      "RangeIndex: 22605 entries, 0 to 22604\n",
      "Data columns (total 25 columns):\n",
      "duration               22605 non-null float64\n",
      "balance                22605 non-null float64\n",
      "age                    22605 non-null float64\n",
      "day                    22605 non-null float64\n",
      "poutcome_success       22605 non-null float64\n",
      "pdays                  22605 non-null float64\n",
      "campaign               22605 non-null float64\n",
      "month_mar              22605 non-null float64\n",
      "housing                22605 non-null float64\n",
      "previous               22605 non-null float64\n",
      "contact_unknown        22605 non-null float64\n",
      "month_oct              22605 non-null float64\n",
      "month_jun              22605 non-null float64\n",
      "job_management         22605 non-null float64\n",
      "month_apr              22605 non-null float64\n",
      "marital_married        22605 non-null float64\n",
      "education_secondary    22605 non-null float64\n",
      "job_blue-collar        22605 non-null float64\n",
      "job_admin.             22605 non-null float64\n",
      "poutcome_unknown       22605 non-null float64\n",
      "month_may              22605 non-null float64\n",
      "job_technician         22605 non-null float64\n",
      "education_tertiary     22605 non-null float64\n",
      "month_aug              22605 non-null float64\n",
      "loan                   22605 non-null float64\n",
      "dtypes: float64(25)\n",
      "memory usage: 4.3 MB\n"
     ]
    }
   ],
   "source": [
    "#create X_test with top 25 important features\n",
    "X_test_scaled_imp = X_test_scaled[feature_importances.index[range(25)]]\n",
    "X_test_scaled_imp.info()"
   ]
  },
  {
   "cell_type": "markdown",
   "metadata": {},
   "source": [
    "### 8.2 Compute AUC Performace"
   ]
  },
  {
   "cell_type": "code",
   "execution_count": 188,
   "metadata": {},
   "outputs": [],
   "source": [
    "#make predictions with all models\n",
    "\n",
    "#tuned knn model\n",
    "knn1_pred = knn1.predict(X_test)\n",
    "\n",
    "#Gaussian Naive Bayes model\n",
    "gauss_nb_pred = gauss_nb.predict(X_test)\n",
    "\n",
    "#Bernouli Naive Bayes model\n",
    "bernou_nb_pred = bernou_nb.predict(X_test)\n",
    "\n",
    "#Decision Tree model\n",
    "dt_pred = dt.predict(X_test)\n",
    "\n",
    "#Random Forest Final model\n",
    "rf_pred = rf.predict(X_test)\n",
    "\n",
    "#Logistic Regression without class weight\n",
    "logit1_pred = logit1.predict(X_test)\n",
    "\n",
    "#Logistic Regression with class weight\n",
    "logit2_pred = logit2.predict(X_test)\n",
    "\n",
    "#ANN with 3 layer of 20,15,10 nodes, using all features\n",
    "ann_2_pred = ann2.predict(X_test_scaled)\n",
    "\n",
    "##ANN with 3 layer of 20,15,10 nodes, using important features\n",
    "ann3_pred = ann3.predict(X_test_scaled_imp)\n"
   ]
  },
  {
   "cell_type": "code",
   "execution_count": 189,
   "metadata": {},
   "outputs": [],
   "source": [
    "auc  = [metrics.roc_auc_score(y_test, knn1_pred),\n",
    "       metrics.roc_auc_score(y_test, gauss_nb_pred),\n",
    "       metrics.roc_auc_score(y_test, bernou_nb_pred),\n",
    "       metrics.roc_auc_score(y_test, dt_pred),\n",
    "       metrics.roc_auc_score(y_test, rf_pred),\n",
    "       metrics.roc_auc_score(y_test, logit1_pred),\n",
    "       metrics.roc_auc_score(y_test, logit2_pred),\n",
    "       metrics.roc_auc_score(y_test, ann_2_pred),\n",
    "       metrics.roc_auc_score(y_test, ann3_pred),\n",
    "       ]"
   ]
  },
  {
   "cell_type": "code",
   "execution_count": 190,
   "metadata": {},
   "outputs": [
    {
     "data": {
      "text/html": [
       "<div>\n",
       "<style scoped>\n",
       "    .dataframe tbody tr th:only-of-type {\n",
       "        vertical-align: middle;\n",
       "    }\n",
       "\n",
       "    .dataframe tbody tr th {\n",
       "        vertical-align: top;\n",
       "    }\n",
       "\n",
       "    .dataframe thead th {\n",
       "        text-align: right;\n",
       "    }\n",
       "</style>\n",
       "<table border=\"1\" class=\"dataframe\">\n",
       "  <thead>\n",
       "    <tr style=\"text-align: right;\">\n",
       "      <th></th>\n",
       "      <th>AUC score</th>\n",
       "    </tr>\n",
       "  </thead>\n",
       "  <tbody>\n",
       "    <tr>\n",
       "      <th>k-NN (k=1)</th>\n",
       "      <td>0.517374</td>\n",
       "    </tr>\n",
       "    <tr>\n",
       "      <th>Gaussian Naive Bayes</th>\n",
       "      <td>0.703082</td>\n",
       "    </tr>\n",
       "    <tr>\n",
       "      <th>Bernoulli Naive Bayes</th>\n",
       "      <td>0.636280</td>\n",
       "    </tr>\n",
       "    <tr>\n",
       "      <th>Decision Tree</th>\n",
       "      <td>0.692776</td>\n",
       "    </tr>\n",
       "    <tr>\n",
       "      <th>RF without Hyperparameter Tunning</th>\n",
       "      <td>0.708833</td>\n",
       "    </tr>\n",
       "    <tr>\n",
       "      <th>Logistic Regression without class weight</th>\n",
       "      <td>0.663551</td>\n",
       "    </tr>\n",
       "    <tr>\n",
       "      <th>Logistic Regression with class weight</th>\n",
       "      <td>0.834872</td>\n",
       "    </tr>\n",
       "    <tr>\n",
       "      <th>ANN with 3 layer of 20,15,10 nodes, using all features</th>\n",
       "      <td>0.718247</td>\n",
       "    </tr>\n",
       "    <tr>\n",
       "      <th>ANN with 3 layer of 20,15,10 nodes, using important features</th>\n",
       "      <td>0.730157</td>\n",
       "    </tr>\n",
       "  </tbody>\n",
       "</table>\n",
       "</div>"
      ],
      "text/plain": [
       "                                                    AUC score\n",
       "k-NN (k=1)                                           0.517374\n",
       "Gaussian Naive Bayes                                 0.703082\n",
       "Bernoulli Naive Bayes                                0.636280\n",
       "Decision Tree                                        0.692776\n",
       "RF without Hyperparameter Tunning                    0.708833\n",
       "Logistic Regression without class weight             0.663551\n",
       "Logistic Regression with class weight                0.834872\n",
       "ANN with 3 layer of 20,15,10 nodes, using all f...   0.718247\n",
       "ANN with 3 layer of 20,15,10 nodes, using impor...   0.730157"
      ]
     },
     "execution_count": 190,
     "metadata": {},
     "output_type": "execute_result"
    }
   ],
   "source": [
    "pd.DataFrame({'AUC score':auc},\n",
    "             index = ['k-NN (k=1)',\n",
    "                      'Gaussian Naive Bayes',\n",
    "                      'Bernoulli Naive Bayes',\n",
    "                      'Decision Tree',\n",
    "                      'RF without Hyperparameter Tunning',\n",
    "                     'Logistic Regression without class weight',\n",
    "                     'Logistic Regression with class weight',\n",
    "                     'ANN with 3 layer of 20,15,10 nodes, using all features',\n",
    "                     'ANN with 3 layer of 20,15,10 nodes, using important features'])"
   ]
  },
  {
   "cell_type": "markdown",
   "metadata": {},
   "source": [
    "It is obviously that Logistic Regression with class weight model has the highest AUC. The value of AUC is about 0.835, whcih is higher than 0.720. Also, ANN with 3 layer of 20,15,10 nodes, using important features, could get an AUC (0.730) larger than 0.720."
   ]
  },
  {
   "cell_type": "code",
   "execution_count": null,
   "metadata": {},
   "outputs": [],
   "source": []
  }
 ],
 "metadata": {
  "kernelspec": {
   "display_name": "Python 3",
   "language": "python",
   "name": "python3"
  },
  "language_info": {
   "codemirror_mode": {
    "name": "ipython",
    "version": 3
   },
   "file_extension": ".py",
   "mimetype": "text/x-python",
   "name": "python",
   "nbconvert_exporter": "python",
   "pygments_lexer": "ipython3",
   "version": "3.8.5"
  },
  "toc": {
   "base_numbering": 1,
   "nav_menu": {},
   "number_sections": true,
   "sideBar": true,
   "skip_h1_title": false,
   "title_cell": "Table of Contents",
   "title_sidebar": "Contents",
   "toc_cell": false,
   "toc_position": {},
   "toc_section_display": true,
   "toc_window_display": false
  },
  "varInspector": {
   "cols": {
    "lenName": 16,
    "lenType": 16,
    "lenVar": 40
   },
   "kernels_config": {
    "python": {
     "delete_cmd_postfix": "",
     "delete_cmd_prefix": "del ",
     "library": "var_list.py",
     "varRefreshCmd": "print(var_dic_list())"
    },
    "r": {
     "delete_cmd_postfix": ") ",
     "delete_cmd_prefix": "rm(",
     "library": "var_list.r",
     "varRefreshCmd": "cat(var_dic_list()) "
    }
   },
   "types_to_exclude": [
    "module",
    "function",
    "builtin_function_or_method",
    "instance",
    "_Feature"
   ],
   "window_display": false
  }
 },
 "nbformat": 4,
 "nbformat_minor": 2
}
